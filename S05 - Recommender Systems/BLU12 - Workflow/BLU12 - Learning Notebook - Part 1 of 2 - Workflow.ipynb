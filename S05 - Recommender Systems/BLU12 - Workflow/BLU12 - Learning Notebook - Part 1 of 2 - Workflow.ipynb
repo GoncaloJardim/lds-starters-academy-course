{
 "cells": [
  {
   "cell_type": "code",
   "execution_count": 1,
   "metadata": {},
   "outputs": [],
   "source": [
    "# Import the necessary dependencies\n",
    "\n",
    "# Operating System\n",
    "import os\n",
    "\n",
    "# Numpy, Pandas and Scipy\n",
    "import numpy as np\n",
    "import pandas as pd\n",
    "from scipy.sparse import csr_matrix, save_npz, load_npz\n",
    "\n",
    "# Scikit-learn\n",
    "from sklearn.metrics.pairwise import cosine_similarity\n",
    "from sklearn.model_selection import train_test_split\n",
    "\n",
    "# Model Evaluation\n",
    "from evaluation import evaluate"
   ]
  },
  {
   "cell_type": "markdown",
   "metadata": {},
   "source": [
    "# BLU12 - Learning Notebook - Workflow\n",
    "## Introduction\n",
    "This week we are going to simulate the real-life environment of the Hackathon! We will provide you with a dataset, some tips and you are going to train, validate and predict with a Recommender System using all the knowledge acquired throughout this specialization.\n",
    "\n",
    "## Context\n",
    "You have finished the Academy and you are hired as a Data Scientist in Recommentunify *(ignore the horrible company name, it works and we have more important stuff to discuss)*.\n",
    "\n",
    "First week on the job and the CEO of the next-unicorn-startup that hired you pitches your first task for the company. NASA has discovered that \"Despacito 2\" is on the making and you need to **urgently avoid this scenario.**\n",
    "\n",
    "<img src=\"./media/despacito_nasa.jpg\" alt=\"Miss me yet?\" width=\"500\"/>\n",
    "\n",
    "He doesn't care how you do it or how it works, just that you use fancy trendy eye-catching mind-blowing AI *stuff* to promote Recommentunify's name in the Data Science industry.\n",
    "\n",
    "## Technical Task\n",
    "After the pitch from the CEO, you talk with your Lead Data Scientist and you get the tasks needed to fulfill the job. The company collected some data on the users, you will need to create the Recommender System that is effective enough so that your users will not need a 2nd version of a Despacito.\n",
    "\n",
    "Your Lead DS keeps some of the data as a test set (in which you will estimate production performance) and gives you the remaining data for yourself."
   ]
  },
  {
   "cell_type": "markdown",
   "metadata": {},
   "source": [
    "## Step -1: Understanding the data\n",
    "You have available under the `./data/` folder some files that you can use for building the Recommender System. As a good scientist, the first step is to validate that the data you have will be good enough to proceed.\n",
    "\n",
    "The files we have available for the **training** stage are:\n",
    "* `train_play_counts.txt` has the listening history for each user\n",
    "* `song_tag.csv`: has the relationship between tags and songs\n",
    "* `songs.txt`: has the correspondence between the song_id (a unique id, eg: SOAAADD12AB018A9DD) and the song_index (an integer index, eg: 1)\n",
    "* `tags.csv`: has the correspondence between the tag_id (a tag name, eg: classic rock) and the tag_index (an integer index, eg: 1)\n",
    "\n",
    "\n",
    "\n",
    "For the **test** stage, we have:\n",
    "* `test_users.csv`: has the user_ids for which a recommendation should be produced\n",
    "* `example_output.csv`: has an example of an output (just for a couple of users)\n",
    "\n",
    "The best approach is to look at the raw files and print out the first rows of each file just to get a overall sense of what we have.\n",
    "\n",
    "*Note*: since the `song_tag.csv` is heavy, it was stored in a zip file which you will need to unzip first.\n",
    "\n",
    "*Note for Windows users: remember that you need to convert the head command into the Windows equivalent. Tip: you can use what you learned in Data Wrangling Learning Unit!*"
   ]
  },
  {
   "cell_type": "code",
   "execution_count": 2,
   "metadata": {
    "tags": []
   },
   "outputs": [
    {
     "output_type": "stream",
     "name": "stdout",
     "text": "train_play_counts.txt \n\n\n\n\n"
    }
   ],
   "source": [
    "print(\"train_play_counts.txt \\n\")\n",
    "!head -3 data/train_play_counts.txt"
   ]
  },
  {
   "cell_type": "code",
   "execution_count": 3,
   "metadata": {
    "tags": []
   },
   "outputs": [
    {
     "output_type": "stream",
     "name": "stdout",
     "text": "song_tag.csv\n\nhead: cannot open 'data/song_tag.csv' for reading: No such file or directory\n"
    }
   ],
   "source": [
    "#Unzip song_tag.zip first.\n",
    "print(\"song_tag.csv\\n\")\n",
    "!head -4 data/song_tag.csv"
   ]
  },
  {
   "cell_type": "code",
   "execution_count": 4,
   "metadata": {
    "tags": []
   },
   "outputs": [
    {
     "output_type": "stream",
     "name": "stdout",
     "text": "songs.txt \n\n\n\n\n"
    }
   ],
   "source": [
    "print(\"songs.txt \\n\")\n",
    "!head -3 data/songs.txt"
   ]
  },
  {
   "cell_type": "code",
   "execution_count": 5,
   "metadata": {
    "tags": []
   },
   "outputs": [
    {
     "output_type": "stream",
     "name": "stdout",
     "text": "tags.csv \n\n\n\n\n\n"
    }
   ],
   "source": [
    "print(\"tags.csv \\n\")\n",
    "!head -4 data/tags.csv"
   ]
  },
  {
   "cell_type": "code",
   "execution_count": 6,
   "metadata": {
    "tags": []
   },
   "outputs": [
    {
     "output_type": "stream",
     "name": "stdout",
     "text": "test_users.csv \n\n\n\n\n"
    }
   ],
   "source": [
    "print(\"test_users.csv \\n\")\n",
    "!head -3 data/test_users.csv"
   ]
  },
  {
   "cell_type": "code",
   "execution_count": 7,
   "metadata": {
    "scrolled": true,
    "tags": []
   },
   "outputs": [
    {
     "output_type": "stream",
     "name": "stdout",
     "text": "example_output.csv \n\n\n"
    }
   ],
   "source": [
    "print(\"example_output.csv \\n\")\n",
    "!head -1 data/example_output.csv"
   ]
  },
  {
   "cell_type": "markdown",
   "metadata": {},
   "source": [
    "## Step 0: Load the Data\n",
    "After validating that the data we have is good enough, we start with building the ratings matrix. Our strategy for the first model is to get a non-personalized system as a baseline. This allows us to both predict for existing users (no cold-start problem) and for new users."
   ]
  },
  {
   "cell_type": "markdown",
   "metadata": {},
   "source": [
    "## Step 0.1: Load the Train and Test files"
   ]
  },
  {
   "cell_type": "code",
   "execution_count": 62,
   "metadata": {},
   "outputs": [
    {
     "output_type": "execute_result",
     "data": {
      "text/plain": "                                       user             song_id  rating\n0  fd50c4007b68a3737fe052d5a4f78ce8aa117f3d  SOBONKR12A58A7A7E0       1\n1  fd50c4007b68a3737fe052d5a4f78ce8aa117f3d  SOEGIYH12A6D4FC0E3       1\n2  fd50c4007b68a3737fe052d5a4f78ce8aa117f3d  SOFLJQZ12A6D4FADA6       1\n3  fd50c4007b68a3737fe052d5a4f78ce8aa117f3d  SOHTKMO12AB01843B0       1\n4  fd50c4007b68a3737fe052d5a4f78ce8aa117f3d  SODQZCY12A6D4F9D11       1",
      "text/html": "<div>\n<style scoped>\n    .dataframe tbody tr th:only-of-type {\n        vertical-align: middle;\n    }\n\n    .dataframe tbody tr th {\n        vertical-align: top;\n    }\n\n    .dataframe thead th {\n        text-align: right;\n    }\n</style>\n<table border=\"1\" class=\"dataframe\">\n  <thead>\n    <tr style=\"text-align: right;\">\n      <th></th>\n      <th>user</th>\n      <th>song_id</th>\n      <th>rating</th>\n    </tr>\n  </thead>\n  <tbody>\n    <tr>\n      <th>0</th>\n      <td>fd50c4007b68a3737fe052d5a4f78ce8aa117f3d</td>\n      <td>SOBONKR12A58A7A7E0</td>\n      <td>1</td>\n    </tr>\n    <tr>\n      <th>1</th>\n      <td>fd50c4007b68a3737fe052d5a4f78ce8aa117f3d</td>\n      <td>SOEGIYH12A6D4FC0E3</td>\n      <td>1</td>\n    </tr>\n    <tr>\n      <th>2</th>\n      <td>fd50c4007b68a3737fe052d5a4f78ce8aa117f3d</td>\n      <td>SOFLJQZ12A6D4FADA6</td>\n      <td>1</td>\n    </tr>\n    <tr>\n      <th>3</th>\n      <td>fd50c4007b68a3737fe052d5a4f78ce8aa117f3d</td>\n      <td>SOHTKMO12AB01843B0</td>\n      <td>1</td>\n    </tr>\n    <tr>\n      <th>4</th>\n      <td>fd50c4007b68a3737fe052d5a4f78ce8aa117f3d</td>\n      <td>SODQZCY12A6D4F9D11</td>\n      <td>1</td>\n    </tr>\n  </tbody>\n</table>\n</div>"
     },
     "metadata": {},
     "execution_count": 62
    }
   ],
   "source": [
    "def read_users_history() -> pd.DataFrame:\n",
    "    \"\"\"Imports the listening history for each user.\n",
    "    \n",
    "    Returns:\n",
    "        data (pd.DataFrame): DataFrame with the song and respective rating for each user. \n",
    "                             The rows are tuples of (user, song_id, rating).\n",
    "                             \n",
    "    \"\"\"\n",
    "    path = os.path.join('data', 'train_play_counts.txt')\n",
    "    data = pd.read_csv(path, names=['user', 'song_id', 'rating'], sep='\\t')\n",
    "    return data\n",
    "\n",
    "data = read_users_history()\n",
    "data.head()"
   ]
  },
  {
   "cell_type": "code",
   "execution_count": 63,
   "metadata": {
    "tags": []
   },
   "outputs": [
    {
     "output_type": "stream",
     "name": "stdout",
     "text": "We have 100,000 ratings in total.\n"
    }
   ],
   "source": [
    "# How many ratings do we have in total?\n",
    "# Tip: The \":,\" at the end of the f-string adds the thousand separator.\n",
    "print(f\"We have {len(data):,} ratings in total.\")"
   ]
  },
  {
   "cell_type": "code",
   "execution_count": 64,
   "metadata": {},
   "outputs": [
    {
     "output_type": "execute_result",
     "data": {
      "text/plain": "                   users to recommend songs\n0  56d985c92960b98ad76a48b10a062b0cd86795bf\n1  0102d1549242d159df98f333aee4041f96f37e98\n2  991411f0dca94f348c7bd3eae93b6e6c061605f1\n3  03feb8ee0424fc5c0bafb25e4bdc6d9380a3caba\n4  323fbb28144eefa3eabfa22bd310dfb0713de80d",
      "text/html": "<div>\n<style scoped>\n    .dataframe tbody tr th:only-of-type {\n        vertical-align: middle;\n    }\n\n    .dataframe tbody tr th {\n        vertical-align: top;\n    }\n\n    .dataframe thead th {\n        text-align: right;\n    }\n</style>\n<table border=\"1\" class=\"dataframe\">\n  <thead>\n    <tr style=\"text-align: right;\">\n      <th></th>\n      <th>users to recommend songs</th>\n    </tr>\n  </thead>\n  <tbody>\n    <tr>\n      <th>0</th>\n      <td>56d985c92960b98ad76a48b10a062b0cd86795bf</td>\n    </tr>\n    <tr>\n      <th>1</th>\n      <td>0102d1549242d159df98f333aee4041f96f37e98</td>\n    </tr>\n    <tr>\n      <th>2</th>\n      <td>991411f0dca94f348c7bd3eae93b6e6c061605f1</td>\n    </tr>\n    <tr>\n      <th>3</th>\n      <td>03feb8ee0424fc5c0bafb25e4bdc6d9380a3caba</td>\n    </tr>\n    <tr>\n      <th>4</th>\n      <td>323fbb28144eefa3eabfa22bd310dfb0713de80d</td>\n    </tr>\n  </tbody>\n</table>\n</div>"
     },
     "metadata": {},
     "execution_count": 64
    }
   ],
   "source": [
    "def read_test_users() -> pd.DataFrame:\n",
    "    \"\"\"Imports the list of users for which we need to predict.\n",
    "    \n",
    "    Returns:\n",
    "        users_to_pred (pd.DataFrame): DataFrame with the users for which we will recommend songs. \n",
    "    \"\"\"\n",
    "\n",
    "    path = os.path.join('data', 'test_users.csv')\n",
    "    users_to_pred_ = pd.read_csv(path, names=['users to recommend songs'])\n",
    "    \n",
    "    return users_to_pred_\n",
    "\n",
    "\n",
    "users_to_pred = read_test_users()\n",
    "users_to_pred.head()"
   ]
  },
  {
   "cell_type": "code",
   "execution_count": 65,
   "metadata": {
    "tags": []
   },
   "outputs": [
    {
     "output_type": "stream",
     "name": "stdout",
     "text": "We have 1000 users in need for better songs!\n"
    }
   ],
   "source": [
    "# For how many users are we recommending stuff?\n",
    "print(f\"We have {len(users_to_pred)} users in need for better songs!\")"
   ]
  },
  {
   "cell_type": "markdown",
   "metadata": {},
   "source": [
    "## Step 0.2: Compare the train and test files"
   ]
  },
  {
   "cell_type": "code",
   "execution_count": 66,
   "metadata": {},
   "outputs": [
    {
     "output_type": "execute_result",
     "data": {
      "text/plain": "users to recommend songs    700\ndtype: int64"
     },
     "metadata": {},
     "execution_count": 66
    }
   ],
   "source": [
    "# And for how many users we already know something?\n",
    "# For the 1000 users in our test set, we have data for 700 in the original listening history.\n",
    "# For the remaining 300 we will have to use non-personalized strategies.\n",
    "users_to_pred.isin(data.user.values).sum()"
   ]
  },
  {
   "cell_type": "code",
   "execution_count": 68,
   "metadata": {},
   "outputs": [],
   "source": [
    "def get_indices_from_users_to_pred(users_to_pred: pd.DataFrame, data: pd.DataFrame):\n",
    "    \"\"\"Get the indices of users_to_pred for which we have data and for which we don't.\n",
    "    \n",
    "    Args:\n",
    "        users_to_pred (pd.DataFrame): DataFrame containing the list of users we are going to recommend items.\n",
    "        data (pd.DataFrame): Original of listening history for the users.\n",
    "        \n",
    "    Returns:\n",
    "        index_users_in_data (Int64Index): Index that filters the users_to_pred to get the user_id's with training data.\n",
    "        index_users_not_in_data (Int64Index): Index that filters the users_to_pred to get the user_id's without training data.\n",
    "        \n",
    "    \"\"\"\n",
    "    index_users_in_data = users_to_pred[users_to_pred.isin(data.user.values).values].index\n",
    "    index_users_not_in_data = users_to_pred[~users_to_pred.isin(data.user.values).values].index\n",
    "    \n",
    "    return index_users_in_data, index_users_not_in_data\n",
    "\n",
    "\n",
    "index_users_in_data, index_users_not_in_data = get_indices_from_users_to_pred(users_to_pred, data)"
   ]
  },
  {
   "cell_type": "code",
   "execution_count": 69,
   "metadata": {
    "tags": []
   },
   "outputs": [
    {
     "output_type": "stream",
     "name": "stdout",
     "text": "The index for users which we have training data has length of 700.\nThe index for users which we don't have training data has length of 300.\n"
    }
   ],
   "source": [
    "# For further inspection, we advise you to look at the objects themselves.\n",
    "print(f\"The index for users which we have training data has length of {len(index_users_in_data)}.\")\n",
    "print(f\"The index for users which we don't have training data has length of {len(index_users_not_in_data)}.\")"
   ]
  },
  {
   "cell_type": "code",
   "execution_count": 70,
   "metadata": {
    "tags": []
   },
   "outputs": [
    {
     "output_type": "stream",
     "name": "stdout",
     "text": "(700, 1)\n"
    },
    {
     "output_type": "execute_result",
     "data": {
      "text/plain": "                   users to recommend songs\n0  56d985c92960b98ad76a48b10a062b0cd86795bf\n1  991411f0dca94f348c7bd3eae93b6e6c061605f1\n2  323fbb28144eefa3eabfa22bd310dfb0713de80d\n3  55c750f0951ca1021b26c0e758660bb8a2c49d3a\n4  b458e3d697276a93aa6926caf1ff08e875933940",
      "text/html": "<div>\n<style scoped>\n    .dataframe tbody tr th:only-of-type {\n        vertical-align: middle;\n    }\n\n    .dataframe tbody tr th {\n        vertical-align: top;\n    }\n\n    .dataframe thead th {\n        text-align: right;\n    }\n</style>\n<table border=\"1\" class=\"dataframe\">\n  <thead>\n    <tr style=\"text-align: right;\">\n      <th></th>\n      <th>users to recommend songs</th>\n    </tr>\n  </thead>\n  <tbody>\n    <tr>\n      <th>0</th>\n      <td>56d985c92960b98ad76a48b10a062b0cd86795bf</td>\n    </tr>\n    <tr>\n      <th>1</th>\n      <td>991411f0dca94f348c7bd3eae93b6e6c061605f1</td>\n    </tr>\n    <tr>\n      <th>2</th>\n      <td>323fbb28144eefa3eabfa22bd310dfb0713de80d</td>\n    </tr>\n    <tr>\n      <th>3</th>\n      <td>55c750f0951ca1021b26c0e758660bb8a2c49d3a</td>\n    </tr>\n    <tr>\n      <th>4</th>\n      <td>b458e3d697276a93aa6926caf1ff08e875933940</td>\n    </tr>\n  </tbody>\n</table>\n</div>"
     },
     "metadata": {},
     "execution_count": 70
    }
   ],
   "source": [
    "def get_users_to_pred_by_index(users_to_pred: pd.DataFrame, index_users_in_data: pd.Int64Index):\n",
    "    \"\"\"DataFrame with user_id's in test set for for which we have training data.\n",
    "\n",
    "    Args: \n",
    "        users_to_pred (pd.DataFrame): DataFrame containing the list of users we are going to recommend items.\n",
    "        index_users_in_data (Int64Index): Index that filters the users_to_pred to get the user_id's with training data.\n",
    "    Returns:\n",
    "        users_in_data (pd.DataFrame): Dataframe containing the list of user_id's with training data.\n",
    "    \n",
    "    \"\"\"\n",
    "    return users_to_pred.iloc[index_users_in_data].reset_index(drop=True)\n",
    "\n",
    "# Get the test users with training data\n",
    "test_users_in_data = get_users_to_pred_by_index(users_to_pred, index_users_in_data)\n",
    "print(test_users_in_data.shape)\n",
    "test_users_in_data.head()"
   ]
  },
  {
   "cell_type": "code",
   "execution_count": 71,
   "metadata": {
    "scrolled": true,
    "tags": []
   },
   "outputs": [
    {
     "output_type": "stream",
     "name": "stdout",
     "text": "(300, 1)\n"
    },
    {
     "output_type": "execute_result",
     "data": {
      "text/plain": "                   users to recommend songs\n0  0102d1549242d159df98f333aee4041f96f37e98\n1  03feb8ee0424fc5c0bafb25e4bdc6d9380a3caba\n2  02e4174f754ee4546f4c4438a4bea6ed877c6c4f\n3  03070a3284db565b2e67f8ad01ce96c31c9986dd\n4  01dd0b2bb39643b8925a672105819d599f827c87",
      "text/html": "<div>\n<style scoped>\n    .dataframe tbody tr th:only-of-type {\n        vertical-align: middle;\n    }\n\n    .dataframe tbody tr th {\n        vertical-align: top;\n    }\n\n    .dataframe thead th {\n        text-align: right;\n    }\n</style>\n<table border=\"1\" class=\"dataframe\">\n  <thead>\n    <tr style=\"text-align: right;\">\n      <th></th>\n      <th>users to recommend songs</th>\n    </tr>\n  </thead>\n  <tbody>\n    <tr>\n      <th>0</th>\n      <td>0102d1549242d159df98f333aee4041f96f37e98</td>\n    </tr>\n    <tr>\n      <th>1</th>\n      <td>03feb8ee0424fc5c0bafb25e4bdc6d9380a3caba</td>\n    </tr>\n    <tr>\n      <th>2</th>\n      <td>02e4174f754ee4546f4c4438a4bea6ed877c6c4f</td>\n    </tr>\n    <tr>\n      <th>3</th>\n      <td>03070a3284db565b2e67f8ad01ce96c31c9986dd</td>\n    </tr>\n    <tr>\n      <th>4</th>\n      <td>01dd0b2bb39643b8925a672105819d599f827c87</td>\n    </tr>\n  </tbody>\n</table>\n</div>"
     },
     "metadata": {},
     "execution_count": 71
    }
   ],
   "source": [
    "# Get the test users without training data\n",
    "test_users_not_in_data = get_users_to_pred_by_index(users_to_pred, index_users_not_in_data)\n",
    "print(test_users_not_in_data.shape)\n",
    "test_users_not_in_data.head()"
   ]
  },
  {
   "cell_type": "markdown",
   "metadata": {},
   "source": [
    "## Step 0.3: Create the Ratings matrix"
   ]
  },
  {
   "cell_type": "markdown",
   "metadata": {},
   "source": [
    "Here we are creating a rating matrix by instantiating the csr_matrix in a different way than before. Previously, a dense matrix (actually a `pd.DataFrame`) was created with the `.pivot()` method, the indices were ordered, the missing values were replaced with 0 and then the dataframe was used as argument of `csr_matrix`. This is an intensive task, time and memory wise. To avoid having to create a huge dataframe it is better to get the indices of users and items and the respective values (all `ndarray`s) and use the fourth instantiation method described in the [csr_matrix documentation]((https://docs.scipy.org/doc/scipy/reference/generated/scipy.sparse.csr_matrix.html))."
   ]
  },
  {
   "cell_type": "code",
   "execution_count": 151,
   "metadata": {},
   "outputs": [
    {
     "output_type": "execute_result",
     "data": {
      "text/plain": "<7526x41194 sparse matrix of type '<class 'numpy.int64'>'\n\twith 100000 stored elements in Compressed Sparse Row format>"
     },
     "metadata": {},
     "execution_count": 151
    }
   ],
   "source": [
    "def make_ratings(data: pd.DataFrame, shape: tuple = None) -> csr_matrix:\n",
    "    \"\"\"Creates the ratings matrix of listening history with optional shape\n",
    "    \n",
    "    Creates the ratings matrix from the listening history imported using the read_users_history() method.\n",
    "    \n",
    "    Args:\n",
    "        data (pd.DataFrame):  Listening history for the users.\n",
    "        shape (tuple): The overall (n_users, n_items) shape desired for the matrix. \n",
    "                       If None, define the shape with the (n_users, n_items) from data argument.\n",
    "        \n",
    "    Returns:\n",
    "        ratings (csr_matrix): Ratings matrix with shape (n_users, n_items).\n",
    "    \n",
    "    \"\"\"\n",
    "    users, user_pos = np.unique(data.iloc[:, 0].values, return_inverse=True)\n",
    "    items, item_pos = np.unique(data.iloc[:, 1].values, return_inverse=True)\n",
    "    values = data.iloc[:, 2].fillna(0).values\n",
    "    \n",
    "    #If shape is not defined, it is determined by the data.\n",
    "    #If shape explicitly defined then that shape is used.\n",
    "    if shape == None:\n",
    "        shape = (len(users), len(items))\n",
    "\n",
    "    R_ = csr_matrix((values, (user_pos, item_pos)), shape=shape)\n",
    "    return R_\n",
    "\n",
    "\n",
    "R = make_ratings(data)\n",
    "R"
   ]
  },
  {
   "cell_type": "code",
   "execution_count": 73,
   "metadata": {
    "scrolled": true,
    "tags": []
   },
   "outputs": [
    {
     "output_type": "stream",
     "name": "stdout",
     "text": "The shape is (7526, 41194)\nThe dtypes of the elements are int64\nThe number of stored elements is 100000\nThe type of the matrix is <class 'scipy.sparse.csr.csr_matrix'>\n"
    }
   ],
   "source": [
    "# Just for mental (in)sanity, let's match the info of the matrix to what is printed in the previous cell.\n",
    "print(f\"The shape is {R.shape}\")\n",
    "print(f\"The dtypes of the elements are {R.dtype}\")\n",
    "print(f\"The number of stored elements is {R.nnz}\")\n",
    "print(f\"The type of the matrix is {type(R)}\")"
   ]
  },
  {
   "cell_type": "code",
   "execution_count": 74,
   "metadata": {},
   "outputs": [
    {
     "output_type": "execute_result",
     "data": {
      "text/plain": "                   users to recommend songs\n0  0011d5f4fb02ff276763d385c3f2ded2b00ad94a\n1  002511b392561fc1d426d875c386b356a6fc5702\n2  002dfbc3c073b55a64a4abab34c0ca1f13897f1c\n3  003998bc33cddeba02428a43391c6716e523c8f7\n4  0042d2027dfa0340e31d2aa875c4be229730efb7",
      "text/html": "<div>\n<style scoped>\n    .dataframe tbody tr th:only-of-type {\n        vertical-align: middle;\n    }\n\n    .dataframe tbody tr th {\n        vertical-align: top;\n    }\n\n    .dataframe thead th {\n        text-align: right;\n    }\n</style>\n<table border=\"1\" class=\"dataframe\">\n  <thead>\n    <tr style=\"text-align: right;\">\n      <th></th>\n      <th>users to recommend songs</th>\n    </tr>\n  </thead>\n  <tbody>\n    <tr>\n      <th>0</th>\n      <td>0011d5f4fb02ff276763d385c3f2ded2b00ad94a</td>\n    </tr>\n    <tr>\n      <th>1</th>\n      <td>002511b392561fc1d426d875c386b356a6fc5702</td>\n    </tr>\n    <tr>\n      <th>2</th>\n      <td>002dfbc3c073b55a64a4abab34c0ca1f13897f1c</td>\n    </tr>\n    <tr>\n      <th>3</th>\n      <td>003998bc33cddeba02428a43391c6716e523c8f7</td>\n    </tr>\n    <tr>\n      <th>4</th>\n      <td>0042d2027dfa0340e31d2aa875c4be229730efb7</td>\n    </tr>\n  </tbody>\n</table>\n</div>"
     },
     "metadata": {},
     "execution_count": 74
    }
   ],
   "source": [
    "# Let's store a Series with the unique user id's that we have in the original data.\n",
    "def get_unique_users(data: pd.DataFrame) -> pd.DataFrame:\n",
    "    \"\"\"Get unique users in training data.\n",
    "    \n",
    "    Args:\n",
    "        data (pd.DataFrame):  listening history for the users.\n",
    "        \n",
    "    Returns:\n",
    "        unique_users (pd.DataFrame): DataFrame of one column with unique users in training data.\n",
    "    \n",
    "    \"\"\"\n",
    "    return pd.DataFrame(np.unique(data.iloc[:, 0].values), columns=[\"users to recommend songs\"])\n",
    "\n",
    "\n",
    "unique_users_training_data = get_unique_users(data)\n",
    "unique_users_training_data.head()"
   ]
  },
  {
   "cell_type": "markdown",
   "metadata": {},
   "source": [
    "## Step 0.4: Record the indices of users\n",
    "After having the users for the test set and the original ratings matrix, let's create some indices which we will use later on to filter data. Don't worry if it does not seem much intuitive in the beginning, you will further return to this and get a better grasp."
   ]
  },
  {
   "cell_type": "code",
   "execution_count": 75,
   "metadata": {},
   "outputs": [],
   "source": [
    "def get_indices_in_ratings_for_test_users_in_data(data: pd.DataFrame, test_users_in_data: pd.DataFrame) -> np.array:\n",
    "    \"\"\"Returns the index of the ratings matrix for the test users for which we have training data.\n",
    "    \n",
    "    Args:\n",
    "        data (pd.DataFrame): DataFrame with the user for each user. \n",
    "                             The rows are tuples of (user, song_id, rating).\n",
    "                             \n",
    "        test_users_in_data (pd.DataFrame): DataFrame containing the list of test users for which we have training data.\n",
    "        \n",
    "    Returns:\n",
    "        indices_ratings_tests_users_in_data (np.array): Indices of users in test set with training data for ratings matrix.\n",
    "    \n",
    "    \"\"\"\n",
    "    unique_users = get_unique_users(data).iloc[:, 0]\n",
    "    indices_ratings_tests_users_in_data = unique_users[unique_users.isin(test_users_in_data.iloc[:, 0])].index.to_numpy()                                                                                       \n",
    "    return indices_ratings_tests_users_in_data\n",
    "\n",
    "indices_ratings_tests_users_in_data = get_indices_in_ratings_for_test_users_in_data(data, test_users_in_data)"
   ]
  },
  {
   "cell_type": "code",
   "execution_count": 76,
   "metadata": {},
   "outputs": [
    {
     "output_type": "execute_result",
     "data": {
      "text/plain": "700"
     },
     "metadata": {},
     "execution_count": 76
    }
   ],
   "source": [
    "len(indices_ratings_tests_users_in_data)"
   ]
  },
  {
   "cell_type": "code",
   "execution_count": 77,
   "metadata": {
    "tags": []
   },
   "outputs": [
    {
     "output_type": "stream",
     "name": "stdout",
     "text": "As expected, the length of the indices should be 700, matching the number of users in test set with training data.\n"
    }
   ],
   "source": [
    "print(f\"As expected, the length of the indices should be {len(indices_ratings_tests_users_in_data)}, matching the number of users in test set with training data.\")"
   ]
  },
  {
   "cell_type": "markdown",
   "metadata": {},
   "source": [
    "## Step 1: Understand your data flow\n",
    "In the end, we will be predicting over a test set of users, which may or may not have ratings available in our training data. For the ones in the test set for which we have data in the training, we may use personalized recommendation systems. Otherwise, we need to switch to non-personalized recommendations. \n",
    "\n",
    "To split into train and validation, we undersample the original list of ratings but we need to make sure that the overall shape is the same (making sure that by undersampling we do not affect the shape of the full matrix).  This is, the universe of items and users is still the same. We simply have less ratings to work with."
   ]
  },
  {
   "cell_type": "code",
   "execution_count": 135,
   "metadata": {
    "scrolled": true,
    "tags": []
   },
   "outputs": [],
   "source": [
    "# Percentage of listening history used for validation.\n",
    "test_size = 0.2\n",
    "\n",
    "def make_train_val_split(data: pd.DataFrame, test_size : float = 0.2, shape: tuple = None):\n",
    "    \"\"\"Split the data into train and validation and returns the ratings matrixes accordingly.\n",
    "    \n",
    "    Args:\n",
    "        data (pd.DataFrame): Listening history for the users.\n",
    "        test_size (float): Percentage of listening history used for validation.\n",
    "        shape (tuple): The overall (n_users, n_items) shape desired for the matrix. \n",
    "                       If None, define the shape with the (n_users, n_items) from 'data' argument.\n",
    "    \n",
    "    Returns:\n",
    "        ratings_train (csr_matrix): Ratings matrix for train.\n",
    "        ratings_val (csr_matrix): Ratings matrix for validation.\n",
    "    \n",
    "    \"\"\"\n",
    "    train_data, val_data = train_test_split(data, test_size=test_size, random_state=8)\n",
    "\n",
    "    #Store the indexes of each observation\n",
    "    train_index = train_data.index\n",
    "    val_index = val_data.index\n",
    "\n",
    "    #make copies of data to replace the observations\n",
    "    train_data_clean = data.copy()\n",
    "    val_data_clean = data.copy()\n",
    "\n",
    "    #Replace the validation observations on the training data\n",
    "    train_data_clean.loc[val_index,[\"rating\"]] = 0\n",
    "    \n",
    "    #Replace the training observations on the validation data\n",
    "    val_data_clean.loc[train_index,[\"rating\"]] = 0\n",
    "\n",
    "    R_train = make_ratings(train_data_clean, shape=shape)\n",
    "    R_val = make_ratings(val_data_clean, shape=shape)\n",
    "\n",
    "    #remove the explicit zeros from the sparse matrices\n",
    "    R_train.eliminate_zeros()\n",
    "    R_val.eliminate_zeros()\n",
    "\n",
    "    return R_train, R_val\n",
    "\n",
    "ratings_train, ratings_val = make_train_val_split(data, test_size=test_size, shape=R.shape)"
   ]
  },
  {
   "cell_type": "code",
   "execution_count": 136,
   "metadata": {
    "tags": []
   },
   "outputs": [
    {
     "output_type": "stream",
     "name": "stdout",
     "text": "After the split we have 80,000 ratings in the train set and 20,000 ratings in the validation set.\n"
    }
   ],
   "source": [
    "# After the train/validation split, let's compare the number of ratings available in each matrix.\n",
    "print(f\"After the split we have {ratings_train.nnz:,} ratings in the train set and {ratings_val.nnz:,} ratings in the validation set.\")"
   ]
  },
  {
   "cell_type": "markdown",
   "metadata": {},
   "source": [
    "## Step 2: Non-Personalized\n",
    "Let's build our baseline using one of the the Non-Personalized techniques we learned in BLU10 - \"Popular Items\". This basically fetches the items which have more ratings overall (we don't care if it is good or bad). Is this how it should be?\n",
    "\n",
    "<img src=\"./media/fry_good_bad.jpg\" alt=\"Confused Fry\" width=\"300\"/>\n",
    "\n",
    "\n",
    "Probably not. But it is worth a shot!"
   ]
  },
  {
   "cell_type": "code",
   "execution_count": 137,
   "metadata": {},
   "outputs": [
    {
     "output_type": "execute_result",
     "data": {
      "text/plain": "array([ 9622,  1394,  2648,  1557, 30752, 23122,  7282, 18742,  5794,\n       33598,  9217, 33416, 32150, 25953, 25737, 26012, 13142, 35433,\n        2667, 17537,  5588,  4849, 34014, 23589, 32656, 19467, 37102,\n        9121,  2616, 29486,  4153, 32168, 30860, 33143, 18055, 26211,\n       35544, 35539,   221, 11151, 19105, 33009, 22051, 35892, 22119,\n       35069, 32651, 25916, 31027, 22055, 25784,   930, 19464,  5555,\n       24856, 22485, 20368, 19794, 35690, 22428, 14716, 32537, 37772,\n       38099, 36319, 40907, 18788, 37604, 31121, 13480, 22565, 28416,\n       37667, 30413, 10324, 18776, 37450, 32111, 38643,  1739,  9581,\n       33098,  6983, 15124, 29939, 11471,  2062, 26777,  2707, 39865,\n       36734, 26126, 17570, 20094, 40950,  5286, 11184, 29148, 23803,\n        7891])"
     },
     "metadata": {},
     "execution_count": 137
    }
   ],
   "source": [
    "def get_most_rated(ratings: csr_matrix, n: int) -> np.matrix:\n",
    "    \"\"\"Returns the n most rated items in a ratings matrix.\n",
    "    \n",
    "    Args:\n",
    "        ratings (csr_matrix): A sparse ratings matrix\n",
    "        n (int): The number of top-n items we should retrieve.\n",
    "        \n",
    "    Returns:\n",
    "        most_rated (np.matrix): An array of the most rated items.\n",
    "    \n",
    "    \"\"\"\n",
    "    def is_rating(R_: csr_matrix) -> csr_matrix:\n",
    "        \"\"\"Returns a sparse matrix of booleans \n",
    "        \n",
    "        Args:\n",
    "            R_ (csr_matrix): A sparse ratings matrix\n",
    "            \n",
    "        Returns:\n",
    "            is_rating (csr_matrix): A sparse matrix of booleans.\n",
    "        \"\"\"\n",
    "        return R_ > 0\n",
    "    \n",
    "    def count_ratings(R_: csr_matrix) -> np.matrix:\n",
    "        \"\"\"Returns an array with the count of ratings\n",
    "        \n",
    "        The attribute \".A1\" of a numpy matrix returns self as a flattened ndarray.\n",
    "        \n",
    "        Args:\n",
    "            R_ (csr_matrix): A sparse matrix of booleans\n",
    "        \n",
    "        Returns:\n",
    "            count_ratings (np.darray): Count of ratings by item\n",
    "        \"\"\"\n",
    "        return R_.sum(axis=0).A1\n",
    "    \n",
    "    ratings_ = is_rating(ratings)\n",
    "    ratings_ = count_ratings(ratings_)\n",
    "    return np.negative(ratings_).argsort()[:n]\n",
    "\n",
    "\n",
    "non_pers_most_rated = get_most_rated(ratings_train, 100)\n",
    "non_pers_most_rated"
   ]
  },
  {
   "cell_type": "code",
   "execution_count": 138,
   "metadata": {},
   "outputs": [
    {
     "output_type": "execute_result",
     "data": {
      "text/plain": "                                            0     1     2     3      4   \\\nusers to recommend songs                                                  \n0011d5f4fb02ff276763d385c3f2ded2b00ad94a  9622  1394  2648  1557  30752   \n002511b392561fc1d426d875c386b356a6fc5702  9622  1394  2648  1557  30752   \n002dfbc3c073b55a64a4abab34c0ca1f13897f1c  9622  1394  2648  1557  30752   \n003998bc33cddeba02428a43391c6716e523c8f7  9622  1394  2648  1557  30752   \n0042d2027dfa0340e31d2aa875c4be229730efb7  9622  1394  2648  1557  30752   \n\n                                             5     6      7     8      9   \\\nusers to recommend songs                                                    \n0011d5f4fb02ff276763d385c3f2ded2b00ad94a  23122  7282  18742  5794  33598   \n002511b392561fc1d426d875c386b356a6fc5702  23122  7282  18742  5794  33598   \n002dfbc3c073b55a64a4abab34c0ca1f13897f1c  23122  7282  18742  5794  33598   \n003998bc33cddeba02428a43391c6716e523c8f7  23122  7282  18742  5794  33598   \n0042d2027dfa0340e31d2aa875c4be229730efb7  23122  7282  18742  5794  33598   \n\n                                          ...     90     91     92     93  \\\nusers to recommend songs                  ...                               \n0011d5f4fb02ff276763d385c3f2ded2b00ad94a  ...  36734  26126  17570  20094   \n002511b392561fc1d426d875c386b356a6fc5702  ...  36734  26126  17570  20094   \n002dfbc3c073b55a64a4abab34c0ca1f13897f1c  ...  36734  26126  17570  20094   \n003998bc33cddeba02428a43391c6716e523c8f7  ...  36734  26126  17570  20094   \n0042d2027dfa0340e31d2aa875c4be229730efb7  ...  36734  26126  17570  20094   \n\n                                             94    95     96     97     98  \\\nusers to recommend songs                                                     \n0011d5f4fb02ff276763d385c3f2ded2b00ad94a  40950  5286  11184  29148  23803   \n002511b392561fc1d426d875c386b356a6fc5702  40950  5286  11184  29148  23803   \n002dfbc3c073b55a64a4abab34c0ca1f13897f1c  40950  5286  11184  29148  23803   \n003998bc33cddeba02428a43391c6716e523c8f7  40950  5286  11184  29148  23803   \n0042d2027dfa0340e31d2aa875c4be229730efb7  40950  5286  11184  29148  23803   \n\n                                            99  \nusers to recommend songs                        \n0011d5f4fb02ff276763d385c3f2ded2b00ad94a  7891  \n002511b392561fc1d426d875c386b356a6fc5702  7891  \n002dfbc3c073b55a64a4abab34c0ca1f13897f1c  7891  \n003998bc33cddeba02428a43391c6716e523c8f7  7891  \n0042d2027dfa0340e31d2aa875c4be229730efb7  7891  \n\n[5 rows x 100 columns]",
      "text/html": "<div>\n<style scoped>\n    .dataframe tbody tr th:only-of-type {\n        vertical-align: middle;\n    }\n\n    .dataframe tbody tr th {\n        vertical-align: top;\n    }\n\n    .dataframe thead th {\n        text-align: right;\n    }\n</style>\n<table border=\"1\" class=\"dataframe\">\n  <thead>\n    <tr style=\"text-align: right;\">\n      <th></th>\n      <th>0</th>\n      <th>1</th>\n      <th>2</th>\n      <th>3</th>\n      <th>4</th>\n      <th>5</th>\n      <th>6</th>\n      <th>7</th>\n      <th>8</th>\n      <th>9</th>\n      <th>...</th>\n      <th>90</th>\n      <th>91</th>\n      <th>92</th>\n      <th>93</th>\n      <th>94</th>\n      <th>95</th>\n      <th>96</th>\n      <th>97</th>\n      <th>98</th>\n      <th>99</th>\n    </tr>\n    <tr>\n      <th>users to recommend songs</th>\n      <th></th>\n      <th></th>\n      <th></th>\n      <th></th>\n      <th></th>\n      <th></th>\n      <th></th>\n      <th></th>\n      <th></th>\n      <th></th>\n      <th></th>\n      <th></th>\n      <th></th>\n      <th></th>\n      <th></th>\n      <th></th>\n      <th></th>\n      <th></th>\n      <th></th>\n      <th></th>\n      <th></th>\n    </tr>\n  </thead>\n  <tbody>\n    <tr>\n      <th>0011d5f4fb02ff276763d385c3f2ded2b00ad94a</th>\n      <td>9622</td>\n      <td>1394</td>\n      <td>2648</td>\n      <td>1557</td>\n      <td>30752</td>\n      <td>23122</td>\n      <td>7282</td>\n      <td>18742</td>\n      <td>5794</td>\n      <td>33598</td>\n      <td>...</td>\n      <td>36734</td>\n      <td>26126</td>\n      <td>17570</td>\n      <td>20094</td>\n      <td>40950</td>\n      <td>5286</td>\n      <td>11184</td>\n      <td>29148</td>\n      <td>23803</td>\n      <td>7891</td>\n    </tr>\n    <tr>\n      <th>002511b392561fc1d426d875c386b356a6fc5702</th>\n      <td>9622</td>\n      <td>1394</td>\n      <td>2648</td>\n      <td>1557</td>\n      <td>30752</td>\n      <td>23122</td>\n      <td>7282</td>\n      <td>18742</td>\n      <td>5794</td>\n      <td>33598</td>\n      <td>...</td>\n      <td>36734</td>\n      <td>26126</td>\n      <td>17570</td>\n      <td>20094</td>\n      <td>40950</td>\n      <td>5286</td>\n      <td>11184</td>\n      <td>29148</td>\n      <td>23803</td>\n      <td>7891</td>\n    </tr>\n    <tr>\n      <th>002dfbc3c073b55a64a4abab34c0ca1f13897f1c</th>\n      <td>9622</td>\n      <td>1394</td>\n      <td>2648</td>\n      <td>1557</td>\n      <td>30752</td>\n      <td>23122</td>\n      <td>7282</td>\n      <td>18742</td>\n      <td>5794</td>\n      <td>33598</td>\n      <td>...</td>\n      <td>36734</td>\n      <td>26126</td>\n      <td>17570</td>\n      <td>20094</td>\n      <td>40950</td>\n      <td>5286</td>\n      <td>11184</td>\n      <td>29148</td>\n      <td>23803</td>\n      <td>7891</td>\n    </tr>\n    <tr>\n      <th>003998bc33cddeba02428a43391c6716e523c8f7</th>\n      <td>9622</td>\n      <td>1394</td>\n      <td>2648</td>\n      <td>1557</td>\n      <td>30752</td>\n      <td>23122</td>\n      <td>7282</td>\n      <td>18742</td>\n      <td>5794</td>\n      <td>33598</td>\n      <td>...</td>\n      <td>36734</td>\n      <td>26126</td>\n      <td>17570</td>\n      <td>20094</td>\n      <td>40950</td>\n      <td>5286</td>\n      <td>11184</td>\n      <td>29148</td>\n      <td>23803</td>\n      <td>7891</td>\n    </tr>\n    <tr>\n      <th>0042d2027dfa0340e31d2aa875c4be229730efb7</th>\n      <td>9622</td>\n      <td>1394</td>\n      <td>2648</td>\n      <td>1557</td>\n      <td>30752</td>\n      <td>23122</td>\n      <td>7282</td>\n      <td>18742</td>\n      <td>5794</td>\n      <td>33598</td>\n      <td>...</td>\n      <td>36734</td>\n      <td>26126</td>\n      <td>17570</td>\n      <td>20094</td>\n      <td>40950</td>\n      <td>5286</td>\n      <td>11184</td>\n      <td>29148</td>\n      <td>23803</td>\n      <td>7891</td>\n    </tr>\n  </tbody>\n</table>\n<p>5 rows × 100 columns</p>\n</div>"
     },
     "metadata": {},
     "execution_count": 138
    }
   ],
   "source": [
    "def convert_non_pers_recommendations_to_df(non_pers_recs: np.array, users_to_pred: pd.DataFrame) -> pd.DataFrame:\n",
    "    \"\"\"\n",
    "    Converts the non-personalized most rated to an DataFrame with the users and the recommendations.\n",
    "    We will basically repeat the non_pers_recs array for the number of users in need.\n",
    "    \n",
    "    Args:\n",
    "        non_pers_recs (np.array): Array of indices for the best non-personalized items to recommend.\n",
    "        users_to_pred (pd.DataFrame): DataFrame containing the users which need recommendations.\n",
    "        \n",
    "    Returns:\n",
    "        non_pers_most_rated_matrix (np.array): Two dimensional array of (n_users, top_n_items)\n",
    "    \n",
    "    \"\"\"\n",
    "    non_pers_df = pd.DataFrame(np.zeros((len(users_to_pred), 1), dtype=non_pers_recs.dtype) + non_pers_recs)\n",
    "    non_pers_df = pd.concat([users_to_pred, non_pers_df], axis=1)\n",
    "    non_pers_df = non_pers_df.set_index(\"users to recommend songs\")\n",
    "    \n",
    "    return non_pers_df\n",
    "\n",
    "\n",
    "non_pers_most_rated_df = convert_non_pers_recommendations_to_df(non_pers_most_rated, unique_users_training_data)\n",
    "non_pers_most_rated_df.head()"
   ]
  },
  {
   "cell_type": "code",
   "execution_count": 139,
   "metadata": {
    "scrolled": true
   },
   "outputs": [
    {
     "output_type": "execute_result",
     "data": {
      "text/plain": "{'0011d5f4fb02ff276763d385c3f2ded2b00ad94a': [9622,\n  1394,\n  2648,\n  1557,\n  30752,\n  23122,\n  7282,\n  18742,\n  5794,\n  33598,\n  9217,\n  33416,\n  32150,\n  25953,\n  25737,\n  26012,\n  13142,\n  35433,\n  2667,\n  17537,\n  5588,\n  4849,\n  34014,\n  23589,\n  32656,\n  19467,\n  37102,\n  9121,\n  2616,\n  29486,\n  4153,\n  32168,\n  30860,\n  33143,\n  18055,\n  26211,\n  35544,\n  35539,\n  221,\n  11151,\n  19105,\n  33009,\n  22051,\n  35892,\n  22119,\n  35069,\n  32651,\n  25916,\n  31027,\n  22055,\n  25784,\n  930,\n  19464,\n  5555,\n  24856,\n  22485,\n  20368,\n  19794,\n  35690,\n  22428,\n  14716,\n  32537,\n  37772,\n  38099,\n  36319,\n  40907,\n  18788,\n  37604,\n  31121,\n  13480,\n  22565,\n  28416,\n  37667,\n  30413,\n  10324,\n  18776,\n  37450,\n  32111,\n  38643,\n  1739,\n  9581,\n  33098,\n  6983,\n  15124,\n  29939,\n  11471,\n  2062,\n  26777,\n  2707,\n  39865,\n  36734,\n  26126,\n  17570,\n  20094,\n  40950,\n  5286,\n  11184,\n  29148,\n  23803,\n  7891]}"
     },
     "metadata": {},
     "execution_count": 139
    }
   ],
   "source": [
    "def create_dict_preds(preds_df: pd.DataFrame) -> dict:\n",
    "    \"\"\"Convert the predictions DataFrame (index:users -> columns: items) to a dictionary of key (user->list of items).\n",
    "    \n",
    "    Args: \n",
    "        preds_df (pd.DataFrame): DataFrame containing the users and the ordered predictions.\n",
    "        \n",
    "    Returns:\n",
    "        preds_dict (dict): Dict of (user_id: list of items) used for evaluating the performance.\n",
    "    \n",
    "    \"\"\"\n",
    "    return {preds_df.index[i]: preds_df.values[i].tolist() for i in range(len(preds_df))}\n",
    "\n",
    "\n",
    "non_pers_dict = create_dict_preds(non_pers_most_rated_df)\n",
    "# Since dicts in python are not ordered, we need to HAMMER DOWN a way to print some values.\n",
    "dict(list(non_pers_dict.items())[0:1])"
   ]
  },
  {
   "cell_type": "markdown",
   "metadata": {},
   "source": [
    "### Step 2.2 - Creating the Ground Truth\n",
    "Since we are splitting the data into train and validation, we will test the predictions we get with the training data in the validation set. To do this, we need to determine what is the ground truth (the actual outcomes) of the recommendations for the validation set. \n",
    "\n",
    "The main idea is to pick up a sorted array for each user on the songs with highest value in the validaton ratings matrix."
   ]
  },
  {
   "cell_type": "code",
   "execution_count": 140,
   "metadata": {},
   "outputs": [
    {
     "output_type": "execute_result",
     "data": {
      "text/plain": "                      users to recommend songs\n0     0011d5f4fb02ff276763d385c3f2ded2b00ad94a\n1     002511b392561fc1d426d875c386b356a6fc5702\n2     002dfbc3c073b55a64a4abab34c0ca1f13897f1c\n3     003998bc33cddeba02428a43391c6716e523c8f7\n4     0042d2027dfa0340e31d2aa875c4be229730efb7\n...                                        ...\n7521  ffd41f0f4c56e011d86a5005439f3468fd29d1d9\n7522  ffdfbc60afdcdcb630d3b667ca3a083b09ed6212\n7523  ffdfc7f9864ee172c3488707969c90e7b1ac4dc7\n7524  ffe2811be1a471ea1d30fd646d815d272aef7d4d\n7525  ffe98099df91d5ff4a9ab02f58bb9dc87b278cb2\n\n[7526 rows x 1 columns]",
      "text/html": "<div>\n<style scoped>\n    .dataframe tbody tr th:only-of-type {\n        vertical-align: middle;\n    }\n\n    .dataframe tbody tr th {\n        vertical-align: top;\n    }\n\n    .dataframe thead th {\n        text-align: right;\n    }\n</style>\n<table border=\"1\" class=\"dataframe\">\n  <thead>\n    <tr style=\"text-align: right;\">\n      <th></th>\n      <th>users to recommend songs</th>\n    </tr>\n  </thead>\n  <tbody>\n    <tr>\n      <th>0</th>\n      <td>0011d5f4fb02ff276763d385c3f2ded2b00ad94a</td>\n    </tr>\n    <tr>\n      <th>1</th>\n      <td>002511b392561fc1d426d875c386b356a6fc5702</td>\n    </tr>\n    <tr>\n      <th>2</th>\n      <td>002dfbc3c073b55a64a4abab34c0ca1f13897f1c</td>\n    </tr>\n    <tr>\n      <th>3</th>\n      <td>003998bc33cddeba02428a43391c6716e523c8f7</td>\n    </tr>\n    <tr>\n      <th>4</th>\n      <td>0042d2027dfa0340e31d2aa875c4be229730efb7</td>\n    </tr>\n    <tr>\n      <th>...</th>\n      <td>...</td>\n    </tr>\n    <tr>\n      <th>7521</th>\n      <td>ffd41f0f4c56e011d86a5005439f3468fd29d1d9</td>\n    </tr>\n    <tr>\n      <th>7522</th>\n      <td>ffdfbc60afdcdcb630d3b667ca3a083b09ed6212</td>\n    </tr>\n    <tr>\n      <th>7523</th>\n      <td>ffdfc7f9864ee172c3488707969c90e7b1ac4dc7</td>\n    </tr>\n    <tr>\n      <th>7524</th>\n      <td>ffe2811be1a471ea1d30fd646d815d272aef7d4d</td>\n    </tr>\n    <tr>\n      <th>7525</th>\n      <td>ffe98099df91d5ff4a9ab02f58bb9dc87b278cb2</td>\n    </tr>\n  </tbody>\n</table>\n<p>7526 rows × 1 columns</p>\n</div>"
     },
     "metadata": {},
     "execution_count": 140
    }
   ],
   "source": [
    "unique_users_training_data"
   ]
  },
  {
   "cell_type": "code",
   "execution_count": 141,
   "metadata": {
    "scrolled": false
   },
   "outputs": [
    {
     "output_type": "execute_result",
     "data": {
      "text/plain": "                                             0      1      2      3      4   \\\nusers to recommend songs                                                      \n0011d5f4fb02ff276763d385c3f2ded2b00ad94a  38805  15053   1447  11133  18776   \n002511b392561fc1d426d875c386b356a6fc5702  17243  37411  27458  27459  27460   \n002dfbc3c073b55a64a4abab34c0ca1f13897f1c  37456   1003   2208  30222   1945   \n003998bc33cddeba02428a43391c6716e523c8f7  38260  20340  38279      0  27457   \n0042d2027dfa0340e31d2aa875c4be229730efb7      0  27457  27458  27459  27460   \n\n                                             5      6      7      8      9   \\\nusers to recommend songs                                                      \n0011d5f4fb02ff276763d385c3f2ded2b00ad94a  27461  27462  27463  27464  27465   \n002511b392561fc1d426d875c386b356a6fc5702  27461  27462  27463  27457  27464   \n002dfbc3c073b55a64a4abab34c0ca1f13897f1c   3975  27461  27462  27463  27464   \n003998bc33cddeba02428a43391c6716e523c8f7  27458  27459  27460  27461  27462   \n0042d2027dfa0340e31d2aa875c4be229730efb7  27461  27462  27463  27456  27464   \n\n                                          ...     90     91     92     93  \\\nusers to recommend songs                  ...                               \n0011d5f4fb02ff276763d385c3f2ded2b00ad94a  ...  27387  27389  27390  27391   \n002511b392561fc1d426d875c386b356a6fc5702  ...  27384  27386  27387  27388   \n002dfbc3c073b55a64a4abab34c0ca1f13897f1c  ...  27385  27386  27379  27387   \n003998bc33cddeba02428a43391c6716e523c8f7  ...  27385  27386  27387  27388   \n0042d2027dfa0340e31d2aa875c4be229730efb7  ...  27386  27387  27388  27389   \n\n                                             94     95     96     97     98  \\\nusers to recommend songs                                                      \n0011d5f4fb02ff276763d385c3f2ded2b00ad94a  27392  27393  27394  27395  27388   \n002511b392561fc1d426d875c386b356a6fc5702  27389  27390  27391  27392  27385   \n002dfbc3c073b55a64a4abab34c0ca1f13897f1c  27389  27390  27391  27392  27393   \n003998bc33cddeba02428a43391c6716e523c8f7  27389  27390  27391  27392  27377   \n0042d2027dfa0340e31d2aa875c4be229730efb7  27390  27391  27392  27385  27393   \n\n                                             99  \nusers to recommend songs                         \n0011d5f4fb02ff276763d385c3f2ded2b00ad94a  27396  \n002511b392561fc1d426d875c386b356a6fc5702  27393  \n002dfbc3c073b55a64a4abab34c0ca1f13897f1c  27394  \n003998bc33cddeba02428a43391c6716e523c8f7  27376  \n0042d2027dfa0340e31d2aa875c4be229730efb7  27375  \n\n[5 rows x 100 columns]",
      "text/html": "<div>\n<style scoped>\n    .dataframe tbody tr th:only-of-type {\n        vertical-align: middle;\n    }\n\n    .dataframe tbody tr th {\n        vertical-align: top;\n    }\n\n    .dataframe thead th {\n        text-align: right;\n    }\n</style>\n<table border=\"1\" class=\"dataframe\">\n  <thead>\n    <tr style=\"text-align: right;\">\n      <th></th>\n      <th>0</th>\n      <th>1</th>\n      <th>2</th>\n      <th>3</th>\n      <th>4</th>\n      <th>5</th>\n      <th>6</th>\n      <th>7</th>\n      <th>8</th>\n      <th>9</th>\n      <th>...</th>\n      <th>90</th>\n      <th>91</th>\n      <th>92</th>\n      <th>93</th>\n      <th>94</th>\n      <th>95</th>\n      <th>96</th>\n      <th>97</th>\n      <th>98</th>\n      <th>99</th>\n    </tr>\n    <tr>\n      <th>users to recommend songs</th>\n      <th></th>\n      <th></th>\n      <th></th>\n      <th></th>\n      <th></th>\n      <th></th>\n      <th></th>\n      <th></th>\n      <th></th>\n      <th></th>\n      <th></th>\n      <th></th>\n      <th></th>\n      <th></th>\n      <th></th>\n      <th></th>\n      <th></th>\n      <th></th>\n      <th></th>\n      <th></th>\n      <th></th>\n    </tr>\n  </thead>\n  <tbody>\n    <tr>\n      <th>0011d5f4fb02ff276763d385c3f2ded2b00ad94a</th>\n      <td>38805</td>\n      <td>15053</td>\n      <td>1447</td>\n      <td>11133</td>\n      <td>18776</td>\n      <td>27461</td>\n      <td>27462</td>\n      <td>27463</td>\n      <td>27464</td>\n      <td>27465</td>\n      <td>...</td>\n      <td>27387</td>\n      <td>27389</td>\n      <td>27390</td>\n      <td>27391</td>\n      <td>27392</td>\n      <td>27393</td>\n      <td>27394</td>\n      <td>27395</td>\n      <td>27388</td>\n      <td>27396</td>\n    </tr>\n    <tr>\n      <th>002511b392561fc1d426d875c386b356a6fc5702</th>\n      <td>17243</td>\n      <td>37411</td>\n      <td>27458</td>\n      <td>27459</td>\n      <td>27460</td>\n      <td>27461</td>\n      <td>27462</td>\n      <td>27463</td>\n      <td>27457</td>\n      <td>27464</td>\n      <td>...</td>\n      <td>27384</td>\n      <td>27386</td>\n      <td>27387</td>\n      <td>27388</td>\n      <td>27389</td>\n      <td>27390</td>\n      <td>27391</td>\n      <td>27392</td>\n      <td>27385</td>\n      <td>27393</td>\n    </tr>\n    <tr>\n      <th>002dfbc3c073b55a64a4abab34c0ca1f13897f1c</th>\n      <td>37456</td>\n      <td>1003</td>\n      <td>2208</td>\n      <td>30222</td>\n      <td>1945</td>\n      <td>3975</td>\n      <td>27461</td>\n      <td>27462</td>\n      <td>27463</td>\n      <td>27464</td>\n      <td>...</td>\n      <td>27385</td>\n      <td>27386</td>\n      <td>27379</td>\n      <td>27387</td>\n      <td>27389</td>\n      <td>27390</td>\n      <td>27391</td>\n      <td>27392</td>\n      <td>27393</td>\n      <td>27394</td>\n    </tr>\n    <tr>\n      <th>003998bc33cddeba02428a43391c6716e523c8f7</th>\n      <td>38260</td>\n      <td>20340</td>\n      <td>38279</td>\n      <td>0</td>\n      <td>27457</td>\n      <td>27458</td>\n      <td>27459</td>\n      <td>27460</td>\n      <td>27461</td>\n      <td>27462</td>\n      <td>...</td>\n      <td>27385</td>\n      <td>27386</td>\n      <td>27387</td>\n      <td>27388</td>\n      <td>27389</td>\n      <td>27390</td>\n      <td>27391</td>\n      <td>27392</td>\n      <td>27377</td>\n      <td>27376</td>\n    </tr>\n    <tr>\n      <th>0042d2027dfa0340e31d2aa875c4be229730efb7</th>\n      <td>0</td>\n      <td>27457</td>\n      <td>27458</td>\n      <td>27459</td>\n      <td>27460</td>\n      <td>27461</td>\n      <td>27462</td>\n      <td>27463</td>\n      <td>27456</td>\n      <td>27464</td>\n      <td>...</td>\n      <td>27386</td>\n      <td>27387</td>\n      <td>27388</td>\n      <td>27389</td>\n      <td>27390</td>\n      <td>27391</td>\n      <td>27392</td>\n      <td>27385</td>\n      <td>27393</td>\n      <td>27375</td>\n    </tr>\n  </tbody>\n</table>\n<p>5 rows × 100 columns</p>\n</div>"
     },
     "metadata": {},
     "execution_count": 141
    }
   ],
   "source": [
    "def get_y_true(R_val_: csr_matrix, users_to_pred: pd.DataFrame, n=100):\n",
    "    \"\"\"Get the ground truth (best recommendations) of the users in the validation set.\n",
    "    \n",
    "    Args:\n",
    "        R_val_ (csr_matrix): Validation set ratings matrix.\n",
    "        users_to_pred: \n",
    "        n (int): Number of top-n items.\n",
    "        \n",
    "    Returns:\n",
    "        y_true_df (pd.DataFrame): DataFrame which returns the y_true items.\n",
    "        \n",
    "    \"\"\"\n",
    "    top_from_R_val = pd.DataFrame(np.negative(R_val_).toarray().argsort()[:, :n])\n",
    "    y_true_df = pd.concat([users_to_pred, top_from_R_val], axis=1)\n",
    "    y_true_df = y_true_df.set_index(\"users to recommend songs\")\n",
    "    return y_true_df\n",
    "\n",
    "\n",
    "y_true_df = get_y_true(ratings_val, unique_users_training_data, n=100)\n",
    "y_true_df.head()"
   ]
  },
  {
   "cell_type": "code",
   "execution_count": 142,
   "metadata": {},
   "outputs": [],
   "source": [
    "# Create the dictionary with the ground truth.\n",
    "y_true_dict = create_dict_preds(y_true_df)"
   ]
  },
  {
   "cell_type": "markdown",
   "metadata": {},
   "source": [
    "## Evaluate\n",
    "We will use the Mean Average Precision @ K to evaluate our predictions."
   ]
  },
  {
   "cell_type": "code",
   "execution_count": 143,
   "metadata": {},
   "outputs": [
    {
     "output_type": "execute_result",
     "data": {
      "text/plain": "0.0003010999155361327"
     },
     "metadata": {},
     "execution_count": 143
    }
   ],
   "source": [
    "evaluate(y_true_dict, non_pers_dict)"
   ]
  },
  {
   "cell_type": "markdown",
   "metadata": {},
   "source": [
    "## Predict \n",
    "To submit your predictions, you just need to convert your recommendations to the format we have in the `example_output.csv` file."
   ]
  },
  {
   "cell_type": "code",
   "execution_count": 32,
   "metadata": {},
   "outputs": [],
   "source": [
    "# Join both dataframes with user_id's\n",
    "all_test_users = pd.concat([test_users_in_data, test_users_not_in_data]).reset_index(drop=True)"
   ]
  },
  {
   "cell_type": "code",
   "execution_count": 33,
   "metadata": {
    "tags": []
   },
   "outputs": [
    {
     "output_type": "stream",
     "name": "stdout",
     "text": "(1000, 100)\n"
    },
    {
     "output_type": "execute_result",
     "data": {
      "text/plain": "                                            0     1     2     3      4   \\\nusers to recommend songs                                                  \n56d985c92960b98ad76a48b10a062b0cd86795bf  8312  1209  2290  1352  26685   \n991411f0dca94f348c7bd3eae93b6e6c061605f1  8312  1209  2290  1352  26685   \n323fbb28144eefa3eabfa22bd310dfb0713de80d  8312  1209  2290  1352  26685   \n55c750f0951ca1021b26c0e758660bb8a2c49d3a  8312  1209  2290  1352  26685   \nb458e3d697276a93aa6926caf1ff08e875933940  8312  1209  2290  1352  26685   \n\n                                             5     6      7     8     9   ...  \\\nusers to recommend songs                                                  ...   \n56d985c92960b98ad76a48b10a062b0cd86795bf  20048  6308  16216  5039  7960  ...   \n991411f0dca94f348c7bd3eae93b6e6c061605f1  20048  6308  16216  5039  7960  ...   \n323fbb28144eefa3eabfa22bd310dfb0713de80d  20048  6308  16216  5039  7960  ...   \n55c750f0951ca1021b26c0e758660bb8a2c49d3a  20048  6308  16216  5039  7960  ...   \nb458e3d697276a93aa6926caf1ff08e875933940  20048  6308  16216  5039  7960  ...   \n\n                                             90     91     92    93     94  \\\nusers to recommend songs                                                     \n56d985c92960b98ad76a48b10a062b0cd86795bf  34535  15185  22648  4590  35471   \n991411f0dca94f348c7bd3eae93b6e6c061605f1  34535  15185  22648  4590  35471   \n323fbb28144eefa3eabfa22bd310dfb0713de80d  34535  15185  22648  4590  35471   \n55c750f0951ca1021b26c0e758660bb8a2c49d3a  34535  15185  22648  4590  35471   \nb458e3d697276a93aa6926caf1ff08e875933940  34535  15185  22648  4590  35471   \n\n                                             95    96     97    98     99  \nusers to recommend songs                                                   \n56d985c92960b98ad76a48b10a062b0cd86795bf  20634  9682  25299  6835  17409  \n991411f0dca94f348c7bd3eae93b6e6c061605f1  20634  9682  25299  6835  17409  \n323fbb28144eefa3eabfa22bd310dfb0713de80d  20634  9682  25299  6835  17409  \n55c750f0951ca1021b26c0e758660bb8a2c49d3a  20634  9682  25299  6835  17409  \nb458e3d697276a93aa6926caf1ff08e875933940  20634  9682  25299  6835  17409  \n\n[5 rows x 100 columns]",
      "text/html": "<div>\n<style scoped>\n    .dataframe tbody tr th:only-of-type {\n        vertical-align: middle;\n    }\n\n    .dataframe tbody tr th {\n        vertical-align: top;\n    }\n\n    .dataframe thead th {\n        text-align: right;\n    }\n</style>\n<table border=\"1\" class=\"dataframe\">\n  <thead>\n    <tr style=\"text-align: right;\">\n      <th></th>\n      <th>0</th>\n      <th>1</th>\n      <th>2</th>\n      <th>3</th>\n      <th>4</th>\n      <th>5</th>\n      <th>6</th>\n      <th>7</th>\n      <th>8</th>\n      <th>9</th>\n      <th>...</th>\n      <th>90</th>\n      <th>91</th>\n      <th>92</th>\n      <th>93</th>\n      <th>94</th>\n      <th>95</th>\n      <th>96</th>\n      <th>97</th>\n      <th>98</th>\n      <th>99</th>\n    </tr>\n    <tr>\n      <th>users to recommend songs</th>\n      <th></th>\n      <th></th>\n      <th></th>\n      <th></th>\n      <th></th>\n      <th></th>\n      <th></th>\n      <th></th>\n      <th></th>\n      <th></th>\n      <th></th>\n      <th></th>\n      <th></th>\n      <th></th>\n      <th></th>\n      <th></th>\n      <th></th>\n      <th></th>\n      <th></th>\n      <th></th>\n      <th></th>\n    </tr>\n  </thead>\n  <tbody>\n    <tr>\n      <th>56d985c92960b98ad76a48b10a062b0cd86795bf</th>\n      <td>8312</td>\n      <td>1209</td>\n      <td>2290</td>\n      <td>1352</td>\n      <td>26685</td>\n      <td>20048</td>\n      <td>6308</td>\n      <td>16216</td>\n      <td>5039</td>\n      <td>7960</td>\n      <td>...</td>\n      <td>34535</td>\n      <td>15185</td>\n      <td>22648</td>\n      <td>4590</td>\n      <td>35471</td>\n      <td>20634</td>\n      <td>9682</td>\n      <td>25299</td>\n      <td>6835</td>\n      <td>17409</td>\n    </tr>\n    <tr>\n      <th>991411f0dca94f348c7bd3eae93b6e6c061605f1</th>\n      <td>8312</td>\n      <td>1209</td>\n      <td>2290</td>\n      <td>1352</td>\n      <td>26685</td>\n      <td>20048</td>\n      <td>6308</td>\n      <td>16216</td>\n      <td>5039</td>\n      <td>7960</td>\n      <td>...</td>\n      <td>34535</td>\n      <td>15185</td>\n      <td>22648</td>\n      <td>4590</td>\n      <td>35471</td>\n      <td>20634</td>\n      <td>9682</td>\n      <td>25299</td>\n      <td>6835</td>\n      <td>17409</td>\n    </tr>\n    <tr>\n      <th>323fbb28144eefa3eabfa22bd310dfb0713de80d</th>\n      <td>8312</td>\n      <td>1209</td>\n      <td>2290</td>\n      <td>1352</td>\n      <td>26685</td>\n      <td>20048</td>\n      <td>6308</td>\n      <td>16216</td>\n      <td>5039</td>\n      <td>7960</td>\n      <td>...</td>\n      <td>34535</td>\n      <td>15185</td>\n      <td>22648</td>\n      <td>4590</td>\n      <td>35471</td>\n      <td>20634</td>\n      <td>9682</td>\n      <td>25299</td>\n      <td>6835</td>\n      <td>17409</td>\n    </tr>\n    <tr>\n      <th>55c750f0951ca1021b26c0e758660bb8a2c49d3a</th>\n      <td>8312</td>\n      <td>1209</td>\n      <td>2290</td>\n      <td>1352</td>\n      <td>26685</td>\n      <td>20048</td>\n      <td>6308</td>\n      <td>16216</td>\n      <td>5039</td>\n      <td>7960</td>\n      <td>...</td>\n      <td>34535</td>\n      <td>15185</td>\n      <td>22648</td>\n      <td>4590</td>\n      <td>35471</td>\n      <td>20634</td>\n      <td>9682</td>\n      <td>25299</td>\n      <td>6835</td>\n      <td>17409</td>\n    </tr>\n    <tr>\n      <th>b458e3d697276a93aa6926caf1ff08e875933940</th>\n      <td>8312</td>\n      <td>1209</td>\n      <td>2290</td>\n      <td>1352</td>\n      <td>26685</td>\n      <td>20048</td>\n      <td>6308</td>\n      <td>16216</td>\n      <td>5039</td>\n      <td>7960</td>\n      <td>...</td>\n      <td>34535</td>\n      <td>15185</td>\n      <td>22648</td>\n      <td>4590</td>\n      <td>35471</td>\n      <td>20634</td>\n      <td>9682</td>\n      <td>25299</td>\n      <td>6835</td>\n      <td>17409</td>\n    </tr>\n  </tbody>\n</table>\n<p>5 rows × 100 columns</p>\n</div>"
     },
     "metadata": {},
     "execution_count": 33
    }
   ],
   "source": [
    "non_pers_test_most_rated_df = convert_non_pers_recommendations_to_df(non_pers_most_rated, all_test_users)\n",
    "print(non_pers_test_most_rated_df.shape)\n",
    "non_pers_test_most_rated_df.head()"
   ]
  },
  {
   "cell_type": "code",
   "execution_count": 34,
   "metadata": {
    "tags": []
   },
   "outputs": [
    {
     "output_type": "stream",
     "name": "stdout",
     "text": "Saved to csv in 'data/test_non_personalized_recommendations.csv'.\n"
    }
   ],
   "source": [
    "def save_predictions(predictions: pd.DataFrame, output_path: str):\n",
    "    \"\"\"Save predictions to csv.\n",
    "    \n",
    "    Saves the predictions into a csv file with the format we need.\n",
    "    We keep the index since it contains the user ids.\n",
    "    \n",
    "    Args:\n",
    "        predictions (pd.DataFrame): DataFrame with user_id as index and ordered recommendations in the columns.\n",
    "        output_path (str): Filepath for the predictions file.\n",
    "    \n",
    "    \"\"\"\n",
    "    predictions.to_csv(output_path, header=None)\n",
    "    print(f\"Saved to csv in '{output_path}'.\")\n",
    "    \n",
    "    \n",
    "save_predictions(non_pers_test_most_rated_df, os.path.join(\"data\", \"test_non_personalized_recommendations.csv\"))"
   ]
  },
  {
   "cell_type": "code",
   "execution_count": 35,
   "metadata": {
    "tags": []
   },
   "outputs": [
    {
     "output_type": "stream",
     "name": "stdout",
     "text": "Saved to csv in 'data/new_users_non_personalized.csv'.\n"
    }
   ],
   "source": [
    "# Filter the non-personalized recommendations for the users without training data and save\n",
    "new_users_recommendations = non_pers_most_rated_df.iloc[index_users_not_in_data]\n",
    "save_predictions(new_users_recommendations, os.path.join(\"data\", \"new_users_non_personalized.csv\"))"
   ]
  },
  {
   "cell_type": "markdown",
   "metadata": {},
   "source": [
    "## Step 3: Personalized\n"
   ]
  },
  {
   "cell_type": "markdown",
   "metadata": {},
   "source": [
    "### Step 3.1 - Collaborative filtering\n"
   ]
  },
  {
   "cell_type": "code",
   "execution_count": 144,
   "metadata": {},
   "outputs": [
    {
     "output_type": "execute_result",
     "data": {
      "text/plain": "<7526x7526 sparse matrix of type '<class 'numpy.float64'>'\n\twith 1078541 stored elements in Compressed Sparse Row format>"
     },
     "metadata": {},
     "execution_count": 144
    }
   ],
   "source": [
    "def make_user_similarities(R_: csr_matrix) -> csr_matrix:\n",
    "    \"\"\"Creates the user similarities matrix.\n",
    "    \n",
    "    Args:\n",
    "        R_ (csr_matrix): Ratings matrix.\n",
    "        \n",
    "    Returns:\n",
    "        user_similarities (csr_matrix): Matrix with user similarities.\n",
    "    \n",
    "    \"\"\"\n",
    "    return cosine_similarity(R_, dense_output=False)\n",
    "\n",
    "\n",
    "user_similarities = make_user_similarities(ratings_train)\n",
    "user_similarities"
   ]
  },
  {
   "cell_type": "code",
   "execution_count": 145,
   "metadata": {},
   "outputs": [
    {
     "output_type": "execute_result",
     "data": {
      "text/plain": "<7526x41194 sparse matrix of type '<class 'numpy.float64'>'\n\twith 9269874 stored elements in Compressed Sparse Row format>"
     },
     "metadata": {},
     "execution_count": 145
    }
   ],
   "source": [
    "def make_user_predictions_collab_filt(S: csr_matrix, R_: csr_matrix):\n",
    "    \"\"\"Predict using collaborative filtering.\n",
    "    \n",
    "    Args:\n",
    "        S (csr_matrix): Similarities matrix (tipically using the cosine_similarity).\n",
    "        R_ (csr_matrix): Ratings matrix.\n",
    "        \n",
    "    Returns:\n",
    "        preds (csr_matrix): Predictions matrix.\n",
    "    \n",
    "    \"\"\"\n",
    "    weighted_sum = np.dot(S, R_)\n",
    "    \n",
    "    # We use the absolute value to support negative similarities.\n",
    "    # In this particular example there are none.\n",
    "    sum_of_weights = np.abs(S).sum(axis=1)\n",
    "    \n",
    "    preds = weighted_sum / sum_of_weights\n",
    "    \n",
    "    # Exclude previously rated items.\n",
    "    preds[R_.nonzero()] = 0\n",
    "    \n",
    "    return csr_matrix(preds)\n",
    " \n",
    "\n",
    "collab_filt_user_preds = make_user_predictions_collab_filt(user_similarities, ratings_train)\n",
    "collab_filt_user_preds"
   ]
  },
  {
   "cell_type": "code",
   "execution_count": 146,
   "metadata": {},
   "outputs": [
    {
     "output_type": "execute_result",
     "data": {
      "text/plain": "0.9700996926567885"
     },
     "metadata": {},
     "execution_count": 146
    }
   ],
   "source": [
    "def sparsity(matrix: csr_matrix) -> float:\n",
    "    \"\"\"Calculates the sparsity of a matrix.\n",
    "    \n",
    "    Args:\n",
    "        matrix (csr_matrix): Sparse matrix.\n",
    "        \n",
    "    Returns:\n",
    "        sparsity_ (float): Sparsity percentage (between 0 and 1).\n",
    "    \n",
    "    \"\"\"\n",
    "    return 1 - matrix.nnz / (matrix.shape[0] * matrix.shape[1])\n",
    "\n",
    "\n",
    "sparsity(collab_filt_user_preds)"
   ]
  },
  {
   "cell_type": "code",
   "execution_count": 147,
   "metadata": {
    "tags": []
   },
   "outputs": [
    {
     "output_type": "stream",
     "name": "stdout",
     "text": "(7526, 100)\n"
    },
    {
     "output_type": "execute_result",
     "data": {
      "text/plain": "array([[36432, 29939,  2648, ..., 21687,  9121,  7691],\n       [31901, 25323, 14131, ..., 22554, 40790, 33750],\n       [ 9966, 34014, 31046, ...,  7085,  2377,  1201],\n       ...,\n       [12171,  2936,  1436, ..., 27480, 27454, 27482],\n       [ 6234,  1557,  1394, ...,  7598, 15159, 29817],\n       [31509, 35670, 16451, ..., 14524, 36116,  3070]])"
     },
     "metadata": {},
     "execution_count": 147
    }
   ],
   "source": [
    "def get_most_rated_from_user_preds(user_preds_: csr_matrix, n: int) -> np.matrix:\n",
    "    \"\"\"Returns the n most rated items from the user predictions.\n",
    "    \n",
    "    Args:\n",
    "        user_preds_ (csr_matrix): A sparse ratings matrix\n",
    "        n (int): The number of top-n items we should retrieve.\n",
    "        \n",
    "    Returns:\n",
    "        most_rated (np.matrix): An array of the most rated items.\n",
    "    \n",
    "    \"\"\"\n",
    "    pred_ = np.negative(user_preds_).toarray()\n",
    "    return pred_.argsort()[:, :n]\n",
    "\n",
    "\n",
    "collab_filt_most_rated = get_most_rated_from_user_preds(collab_filt_user_preds, 100)\n",
    "print(collab_filt_most_rated.shape)\n",
    "collab_filt_most_rated"
   ]
  },
  {
   "cell_type": "code",
   "execution_count": 148,
   "metadata": {},
   "outputs": [
    {
     "output_type": "execute_result",
     "data": {
      "text/plain": "                                             0      1      2      3      4   \\\nusers to recommend songs                                                      \n0011d5f4fb02ff276763d385c3f2ded2b00ad94a  36432  29939   2648  20368  38277   \n002511b392561fc1d426d875c386b356a6fc5702  31901  25323  14131  34763  16020   \n002dfbc3c073b55a64a4abab34c0ca1f13897f1c   9966  34014  31046   9622   2208   \n003998bc33cddeba02428a43391c6716e523c8f7   1612   1232   4276  33318  40377   \n0042d2027dfa0340e31d2aa875c4be229730efb7   4415  36171  29494  20028  31334   \n\n                                             5      6      7      8      9   \\\nusers to recommend songs                                                      \n0011d5f4fb02ff276763d385c3f2ded2b00ad94a  12890  33331  22565  35406  10324   \n002511b392561fc1d426d875c386b356a6fc5702  38354  27305   5232  37434   9191   \n002dfbc3c073b55a64a4abab34c0ca1f13897f1c   7282   7598  23122  10269  33143   \n003998bc33cddeba02428a43391c6716e523c8f7  25964  40950    991  26411   1658   \n0042d2027dfa0340e31d2aa875c4be229730efb7  39976  33098  18742  35834  24048   \n\n                                          ...     90     91     92     93  \\\nusers to recommend songs                  ...                               \n0011d5f4fb02ff276763d385c3f2ded2b00ad94a  ...  22571  25953  11151  31756   \n002511b392561fc1d426d875c386b356a6fc5702  ...  30647   3367  15182  26669   \n002dfbc3c073b55a64a4abab34c0ca1f13897f1c  ...  10324  21352  35592  26830   \n003998bc33cddeba02428a43391c6716e523c8f7  ...  38044  28931  15987  25147   \n0042d2027dfa0340e31d2aa875c4be229730efb7  ...   2377  15114  18584   4840   \n\n                                             94     95     96     97     98  \\\nusers to recommend songs                                                      \n0011d5f4fb02ff276763d385c3f2ded2b00ad94a  32530  13733   4204  21687   9121   \n002511b392561fc1d426d875c386b356a6fc5702  17383  28997   4761  22554  40790   \n002dfbc3c073b55a64a4abab34c0ca1f13897f1c  14134  23803  29486   7085   2377   \n003998bc33cddeba02428a43391c6716e523c8f7  37859  37842   8812  10654   5832   \n0042d2027dfa0340e31d2aa875c4be229730efb7  12049   5188  24742  11238  30810   \n\n                                             99  \nusers to recommend songs                         \n0011d5f4fb02ff276763d385c3f2ded2b00ad94a   7691  \n002511b392561fc1d426d875c386b356a6fc5702  33750  \n002dfbc3c073b55a64a4abab34c0ca1f13897f1c   1201  \n003998bc33cddeba02428a43391c6716e523c8f7  13737  \n0042d2027dfa0340e31d2aa875c4be229730efb7  38725  \n\n[5 rows x 100 columns]",
      "text/html": "<div>\n<style scoped>\n    .dataframe tbody tr th:only-of-type {\n        vertical-align: middle;\n    }\n\n    .dataframe tbody tr th {\n        vertical-align: top;\n    }\n\n    .dataframe thead th {\n        text-align: right;\n    }\n</style>\n<table border=\"1\" class=\"dataframe\">\n  <thead>\n    <tr style=\"text-align: right;\">\n      <th></th>\n      <th>0</th>\n      <th>1</th>\n      <th>2</th>\n      <th>3</th>\n      <th>4</th>\n      <th>5</th>\n      <th>6</th>\n      <th>7</th>\n      <th>8</th>\n      <th>9</th>\n      <th>...</th>\n      <th>90</th>\n      <th>91</th>\n      <th>92</th>\n      <th>93</th>\n      <th>94</th>\n      <th>95</th>\n      <th>96</th>\n      <th>97</th>\n      <th>98</th>\n      <th>99</th>\n    </tr>\n    <tr>\n      <th>users to recommend songs</th>\n      <th></th>\n      <th></th>\n      <th></th>\n      <th></th>\n      <th></th>\n      <th></th>\n      <th></th>\n      <th></th>\n      <th></th>\n      <th></th>\n      <th></th>\n      <th></th>\n      <th></th>\n      <th></th>\n      <th></th>\n      <th></th>\n      <th></th>\n      <th></th>\n      <th></th>\n      <th></th>\n      <th></th>\n    </tr>\n  </thead>\n  <tbody>\n    <tr>\n      <th>0011d5f4fb02ff276763d385c3f2ded2b00ad94a</th>\n      <td>36432</td>\n      <td>29939</td>\n      <td>2648</td>\n      <td>20368</td>\n      <td>38277</td>\n      <td>12890</td>\n      <td>33331</td>\n      <td>22565</td>\n      <td>35406</td>\n      <td>10324</td>\n      <td>...</td>\n      <td>22571</td>\n      <td>25953</td>\n      <td>11151</td>\n      <td>31756</td>\n      <td>32530</td>\n      <td>13733</td>\n      <td>4204</td>\n      <td>21687</td>\n      <td>9121</td>\n      <td>7691</td>\n    </tr>\n    <tr>\n      <th>002511b392561fc1d426d875c386b356a6fc5702</th>\n      <td>31901</td>\n      <td>25323</td>\n      <td>14131</td>\n      <td>34763</td>\n      <td>16020</td>\n      <td>38354</td>\n      <td>27305</td>\n      <td>5232</td>\n      <td>37434</td>\n      <td>9191</td>\n      <td>...</td>\n      <td>30647</td>\n      <td>3367</td>\n      <td>15182</td>\n      <td>26669</td>\n      <td>17383</td>\n      <td>28997</td>\n      <td>4761</td>\n      <td>22554</td>\n      <td>40790</td>\n      <td>33750</td>\n    </tr>\n    <tr>\n      <th>002dfbc3c073b55a64a4abab34c0ca1f13897f1c</th>\n      <td>9966</td>\n      <td>34014</td>\n      <td>31046</td>\n      <td>9622</td>\n      <td>2208</td>\n      <td>7282</td>\n      <td>7598</td>\n      <td>23122</td>\n      <td>10269</td>\n      <td>33143</td>\n      <td>...</td>\n      <td>10324</td>\n      <td>21352</td>\n      <td>35592</td>\n      <td>26830</td>\n      <td>14134</td>\n      <td>23803</td>\n      <td>29486</td>\n      <td>7085</td>\n      <td>2377</td>\n      <td>1201</td>\n    </tr>\n    <tr>\n      <th>003998bc33cddeba02428a43391c6716e523c8f7</th>\n      <td>1612</td>\n      <td>1232</td>\n      <td>4276</td>\n      <td>33318</td>\n      <td>40377</td>\n      <td>25964</td>\n      <td>40950</td>\n      <td>991</td>\n      <td>26411</td>\n      <td>1658</td>\n      <td>...</td>\n      <td>38044</td>\n      <td>28931</td>\n      <td>15987</td>\n      <td>25147</td>\n      <td>37859</td>\n      <td>37842</td>\n      <td>8812</td>\n      <td>10654</td>\n      <td>5832</td>\n      <td>13737</td>\n    </tr>\n    <tr>\n      <th>0042d2027dfa0340e31d2aa875c4be229730efb7</th>\n      <td>4415</td>\n      <td>36171</td>\n      <td>29494</td>\n      <td>20028</td>\n      <td>31334</td>\n      <td>39976</td>\n      <td>33098</td>\n      <td>18742</td>\n      <td>35834</td>\n      <td>24048</td>\n      <td>...</td>\n      <td>2377</td>\n      <td>15114</td>\n      <td>18584</td>\n      <td>4840</td>\n      <td>12049</td>\n      <td>5188</td>\n      <td>24742</td>\n      <td>11238</td>\n      <td>30810</td>\n      <td>38725</td>\n    </tr>\n  </tbody>\n</table>\n<p>5 rows × 100 columns</p>\n</div>"
     },
     "metadata": {},
     "execution_count": 148
    }
   ],
   "source": [
    "def convert_pers_recommendations_to_df(pers_recs: np.array, users_to_pred: pd.DataFrame) -> pd.DataFrame:\n",
    "    \"\"\"Converts the personalized most rated to an DataFrame with the users and the recommendations.\n",
    "    \n",
    "    Args:\n",
    "        pers_recs (np.array): Array of indices for the best personalized items to recommend.\n",
    "        users_to_pred (pd.DataFrame): DataFrame containing the users which need recommendations.\n",
    "        \n",
    "    Returns:\n",
    "        non_pers_most_rated_matrix (np.array): Two dimensional array of (n_users, top_n_items)\n",
    "    \n",
    "    \"\"\"\n",
    "    pers_df = pd.concat([users_to_pred, pd.DataFrame(pers_recs)], axis=1)\n",
    "    pers_df = pers_df.set_index(\"users to recommend songs\")\n",
    "    \n",
    "    return pers_df\n",
    "\n",
    "\n",
    "collab_filt_most_rated_df = convert_pers_recommendations_to_df(collab_filt_most_rated, unique_users_training_data)\n",
    "collab_filt_most_rated_df.head()"
   ]
  },
  {
   "cell_type": "code",
   "execution_count": 149,
   "metadata": {
    "scrolled": true
   },
   "outputs": [
    {
     "output_type": "execute_result",
     "data": {
      "text/plain": "{'0011d5f4fb02ff276763d385c3f2ded2b00ad94a': [36432,\n  29939,\n  2648,\n  20368,\n  38277,\n  12890,\n  33331,\n  22565,\n  35406,\n  10324,\n  11658,\n  33098,\n  16428,\n  9622,\n  36319,\n  30752,\n  30933,\n  5588,\n  35539,\n  32656,\n  13363,\n  13754,\n  32684,\n  33159,\n  14705,\n  33416,\n  33110,\n  5167,\n  29015,\n  40597,\n  34495,\n  17659,\n  1394,\n  11357,\n  26445,\n  9614,\n  9675,\n  33598,\n  16044,\n  17944,\n  3592,\n  13358,\n  3669,\n  6122,\n  24229,\n  34014,\n  23944,\n  34087,\n  27882,\n  14765,\n  23589,\n  26019,\n  10352,\n  29468,\n  41019,\n  24805,\n  25916,\n  39983,\n  24965,\n  33505,\n  30860,\n  18776,\n  28267,\n  7282,\n  3288,\n  15053,\n  32537,\n  1557,\n  36116,\n  34569,\n  2616,\n  25590,\n  28926,\n  25737,\n  26261,\n  24874,\n  18506,\n  29565,\n  35967,\n  23122,\n  32168,\n  38718,\n  38805,\n  15296,\n  22051,\n  28334,\n  30247,\n  23139,\n  19105,\n  14553,\n  22571,\n  25953,\n  11151,\n  31756,\n  32530,\n  13733,\n  4204,\n  21687,\n  9121,\n  7691]}"
     },
     "metadata": {},
     "execution_count": 149
    }
   ],
   "source": [
    "collab_filt_dict = create_dict_preds(collab_filt_most_rated_df)\n",
    "# Since dicts in python are not ordered, we need to HAMMER DOWN a way to print some values.\n",
    "dict(list(collab_filt_dict.items())[0:1])"
   ]
  },
  {
   "cell_type": "markdown",
   "metadata": {},
   "source": [
    "## Evaluate\n",
    "We use again the Mean Average Precision @ K to evaluate our predictions."
   ]
  },
  {
   "cell_type": "code",
   "execution_count": 150,
   "metadata": {
    "scrolled": true
   },
   "outputs": [
    {
     "output_type": "execute_result",
     "data": {
      "text/plain": "0.032606521925826186"
     },
     "metadata": {},
     "execution_count": 150
    }
   ],
   "source": [
    "evaluate(y_true_dict, collab_filt_dict)"
   ]
  },
  {
   "cell_type": "markdown",
   "metadata": {},
   "source": [
    "## Predict \n",
    "To submit your predictions, you just need to convert your recommendations to the format we have in the `example_output.csv` file."
   ]
  },
  {
   "cell_type": "code",
   "execution_count": 43,
   "metadata": {
    "tags": []
   },
   "outputs": [
    {
     "output_type": "stream",
     "name": "stdout",
     "text": "(700, 100)\n"
    },
    {
     "output_type": "execute_result",
     "data": {
      "text/plain": "                                             0      1      2      3      4   \\\nusers to recommend songs                                                      \n56d985c92960b98ad76a48b10a062b0cd86795bf   1748  22253    621  27878  19066   \n991411f0dca94f348c7bd3eae93b6e6c061605f1  25299  34096  32562  29865  19575   \n323fbb28144eefa3eabfa22bd310dfb0713de80d  22234   2768   3310   4814   2563   \n55c750f0951ca1021b26c0e758660bb8a2c49d3a  14423   1209   6418  18025   4850   \nb458e3d697276a93aa6926caf1ff08e875933940   2290   8312   6308  28751  33175   \n\n                                             5      6      7      8      9   \\\nusers to recommend songs                                                      \n56d985c92960b98ad76a48b10a062b0cd86795bf   5522  18590   6508  21687  31371   \n991411f0dca94f348c7bd3eae93b6e6c061605f1  35181  22478   6494  30934   1228   \n323fbb28144eefa3eabfa22bd310dfb0713de80d  34241   6994  21688  26562   5472   \n55c750f0951ca1021b26c0e758660bb8a2c49d3a  16321   7195  16243  13629  26924   \nb458e3d697276a93aa6926caf1ff08e875933940  29496   1778  30780  20048   1352   \n\n                                          ...     90     91     92     93  \\\nusers to recommend songs                  ...                               \n56d985c92960b98ad76a48b10a062b0cd86795bf  ...  17858   3618  27507  27474   \n991411f0dca94f348c7bd3eae93b6e6c061605f1  ...   8912  28751   9884  16319   \n323fbb28144eefa3eabfa22bd310dfb0713de80d  ...  20255   3337  25810   5833   \n55c750f0951ca1021b26c0e758660bb8a2c49d3a  ...   2537   4200   9844  25579   \nb458e3d697276a93aa6926caf1ff08e875933940  ...  21868  11715  27449  35446   \n\n                                             94     95     96     97     98  \\\nusers to recommend songs                                                      \n56d985c92960b98ad76a48b10a062b0cd86795bf  27479  27478  27509  27473  27508   \n991411f0dca94f348c7bd3eae93b6e6c061605f1   3380   2154   8312   9469  14392   \n323fbb28144eefa3eabfa22bd310dfb0713de80d  10057  16575  26550  13959   7045   \n55c750f0951ca1021b26c0e758660bb8a2c49d3a   2252  19103  29113   1468  12054   \nb458e3d697276a93aa6926caf1ff08e875933940  21772  24177  31942    970   3171   \n\n                                             99  \nusers to recommend songs                         \n56d985c92960b98ad76a48b10a062b0cd86795bf  27476  \n991411f0dca94f348c7bd3eae93b6e6c061605f1  20438  \n323fbb28144eefa3eabfa22bd310dfb0713de80d  35191  \n55c750f0951ca1021b26c0e758660bb8a2c49d3a   1047  \nb458e3d697276a93aa6926caf1ff08e875933940  24364  \n\n[5 rows x 100 columns]",
      "text/html": "<div>\n<style scoped>\n    .dataframe tbody tr th:only-of-type {\n        vertical-align: middle;\n    }\n\n    .dataframe tbody tr th {\n        vertical-align: top;\n    }\n\n    .dataframe thead th {\n        text-align: right;\n    }\n</style>\n<table border=\"1\" class=\"dataframe\">\n  <thead>\n    <tr style=\"text-align: right;\">\n      <th></th>\n      <th>0</th>\n      <th>1</th>\n      <th>2</th>\n      <th>3</th>\n      <th>4</th>\n      <th>5</th>\n      <th>6</th>\n      <th>7</th>\n      <th>8</th>\n      <th>9</th>\n      <th>...</th>\n      <th>90</th>\n      <th>91</th>\n      <th>92</th>\n      <th>93</th>\n      <th>94</th>\n      <th>95</th>\n      <th>96</th>\n      <th>97</th>\n      <th>98</th>\n      <th>99</th>\n    </tr>\n    <tr>\n      <th>users to recommend songs</th>\n      <th></th>\n      <th></th>\n      <th></th>\n      <th></th>\n      <th></th>\n      <th></th>\n      <th></th>\n      <th></th>\n      <th></th>\n      <th></th>\n      <th></th>\n      <th></th>\n      <th></th>\n      <th></th>\n      <th></th>\n      <th></th>\n      <th></th>\n      <th></th>\n      <th></th>\n      <th></th>\n      <th></th>\n    </tr>\n  </thead>\n  <tbody>\n    <tr>\n      <th>56d985c92960b98ad76a48b10a062b0cd86795bf</th>\n      <td>1748</td>\n      <td>22253</td>\n      <td>621</td>\n      <td>27878</td>\n      <td>19066</td>\n      <td>5522</td>\n      <td>18590</td>\n      <td>6508</td>\n      <td>21687</td>\n      <td>31371</td>\n      <td>...</td>\n      <td>17858</td>\n      <td>3618</td>\n      <td>27507</td>\n      <td>27474</td>\n      <td>27479</td>\n      <td>27478</td>\n      <td>27509</td>\n      <td>27473</td>\n      <td>27508</td>\n      <td>27476</td>\n    </tr>\n    <tr>\n      <th>991411f0dca94f348c7bd3eae93b6e6c061605f1</th>\n      <td>25299</td>\n      <td>34096</td>\n      <td>32562</td>\n      <td>29865</td>\n      <td>19575</td>\n      <td>35181</td>\n      <td>22478</td>\n      <td>6494</td>\n      <td>30934</td>\n      <td>1228</td>\n      <td>...</td>\n      <td>8912</td>\n      <td>28751</td>\n      <td>9884</td>\n      <td>16319</td>\n      <td>3380</td>\n      <td>2154</td>\n      <td>8312</td>\n      <td>9469</td>\n      <td>14392</td>\n      <td>20438</td>\n    </tr>\n    <tr>\n      <th>323fbb28144eefa3eabfa22bd310dfb0713de80d</th>\n      <td>22234</td>\n      <td>2768</td>\n      <td>3310</td>\n      <td>4814</td>\n      <td>2563</td>\n      <td>34241</td>\n      <td>6994</td>\n      <td>21688</td>\n      <td>26562</td>\n      <td>5472</td>\n      <td>...</td>\n      <td>20255</td>\n      <td>3337</td>\n      <td>25810</td>\n      <td>5833</td>\n      <td>10057</td>\n      <td>16575</td>\n      <td>26550</td>\n      <td>13959</td>\n      <td>7045</td>\n      <td>35191</td>\n    </tr>\n    <tr>\n      <th>55c750f0951ca1021b26c0e758660bb8a2c49d3a</th>\n      <td>14423</td>\n      <td>1209</td>\n      <td>6418</td>\n      <td>18025</td>\n      <td>4850</td>\n      <td>16321</td>\n      <td>7195</td>\n      <td>16243</td>\n      <td>13629</td>\n      <td>26924</td>\n      <td>...</td>\n      <td>2537</td>\n      <td>4200</td>\n      <td>9844</td>\n      <td>25579</td>\n      <td>2252</td>\n      <td>19103</td>\n      <td>29113</td>\n      <td>1468</td>\n      <td>12054</td>\n      <td>1047</td>\n    </tr>\n    <tr>\n      <th>b458e3d697276a93aa6926caf1ff08e875933940</th>\n      <td>2290</td>\n      <td>8312</td>\n      <td>6308</td>\n      <td>28751</td>\n      <td>33175</td>\n      <td>29496</td>\n      <td>1778</td>\n      <td>30780</td>\n      <td>20048</td>\n      <td>1352</td>\n      <td>...</td>\n      <td>21868</td>\n      <td>11715</td>\n      <td>27449</td>\n      <td>35446</td>\n      <td>21772</td>\n      <td>24177</td>\n      <td>31942</td>\n      <td>970</td>\n      <td>3171</td>\n      <td>24364</td>\n    </tr>\n  </tbody>\n</table>\n<p>5 rows × 100 columns</p>\n</div>"
     },
     "metadata": {},
     "execution_count": 43
    }
   ],
   "source": [
    "# Filter the collaborative filtering most rated DataFrame  using the test_users_in_data mask.\n",
    "collab_filt_most_rated_in_data_df = collab_filt_most_rated_df.loc[test_users_in_data.iloc[:, 0].to_list()]\n",
    "print(collab_filt_most_rated_in_data_df.shape)\n",
    "collab_filt_most_rated_in_data_df.head()"
   ]
  },
  {
   "cell_type": "code",
   "execution_count": 44,
   "metadata": {
    "tags": []
   },
   "outputs": [
    {
     "output_type": "stream",
     "name": "stdout",
     "text": "(300, 100)\n"
    },
    {
     "output_type": "execute_result",
     "data": {
      "text/plain": "                                            0     1     2     3      4   \\\nusers to recommend songs                                                  \n002511b392561fc1d426d875c386b356a6fc5702  8312  1209  2290  1352  26685   \n003998bc33cddeba02428a43391c6716e523c8f7  8312  1209  2290  1352  26685   \n005b1fab38cdeb9d5bb97debcf73b44050994a3e  8312  1209  2290  1352  26685   \n005cc5d858319f13f88228f62341e5a4270f8e75  8312  1209  2290  1352  26685   \n006d3c79b9ed677280f8ddbc422d7b0fedd6d1fa  8312  1209  2290  1352  26685   \n\n                                             5     6      7     8     9   ...  \\\nusers to recommend songs                                                  ...   \n002511b392561fc1d426d875c386b356a6fc5702  20048  6308  16216  5039  7960  ...   \n003998bc33cddeba02428a43391c6716e523c8f7  20048  6308  16216  5039  7960  ...   \n005b1fab38cdeb9d5bb97debcf73b44050994a3e  20048  6308  16216  5039  7960  ...   \n005cc5d858319f13f88228f62341e5a4270f8e75  20048  6308  16216  5039  7960  ...   \n006d3c79b9ed677280f8ddbc422d7b0fedd6d1fa  20048  6308  16216  5039  7960  ...   \n\n                                             90     91     92    93     94  \\\nusers to recommend songs                                                     \n002511b392561fc1d426d875c386b356a6fc5702  34535  15185  22648  4590  35471   \n003998bc33cddeba02428a43391c6716e523c8f7  34535  15185  22648  4590  35471   \n005b1fab38cdeb9d5bb97debcf73b44050994a3e  34535  15185  22648  4590  35471   \n005cc5d858319f13f88228f62341e5a4270f8e75  34535  15185  22648  4590  35471   \n006d3c79b9ed677280f8ddbc422d7b0fedd6d1fa  34535  15185  22648  4590  35471   \n\n                                             95    96     97    98     99  \nusers to recommend songs                                                   \n002511b392561fc1d426d875c386b356a6fc5702  20634  9682  25299  6835  17409  \n003998bc33cddeba02428a43391c6716e523c8f7  20634  9682  25299  6835  17409  \n005b1fab38cdeb9d5bb97debcf73b44050994a3e  20634  9682  25299  6835  17409  \n005cc5d858319f13f88228f62341e5a4270f8e75  20634  9682  25299  6835  17409  \n006d3c79b9ed677280f8ddbc422d7b0fedd6d1fa  20634  9682  25299  6835  17409  \n\n[5 rows x 100 columns]",
      "text/html": "<div>\n<style scoped>\n    .dataframe tbody tr th:only-of-type {\n        vertical-align: middle;\n    }\n\n    .dataframe tbody tr th {\n        vertical-align: top;\n    }\n\n    .dataframe thead th {\n        text-align: right;\n    }\n</style>\n<table border=\"1\" class=\"dataframe\">\n  <thead>\n    <tr style=\"text-align: right;\">\n      <th></th>\n      <th>0</th>\n      <th>1</th>\n      <th>2</th>\n      <th>3</th>\n      <th>4</th>\n      <th>5</th>\n      <th>6</th>\n      <th>7</th>\n      <th>8</th>\n      <th>9</th>\n      <th>...</th>\n      <th>90</th>\n      <th>91</th>\n      <th>92</th>\n      <th>93</th>\n      <th>94</th>\n      <th>95</th>\n      <th>96</th>\n      <th>97</th>\n      <th>98</th>\n      <th>99</th>\n    </tr>\n    <tr>\n      <th>users to recommend songs</th>\n      <th></th>\n      <th></th>\n      <th></th>\n      <th></th>\n      <th></th>\n      <th></th>\n      <th></th>\n      <th></th>\n      <th></th>\n      <th></th>\n      <th></th>\n      <th></th>\n      <th></th>\n      <th></th>\n      <th></th>\n      <th></th>\n      <th></th>\n      <th></th>\n      <th></th>\n      <th></th>\n      <th></th>\n    </tr>\n  </thead>\n  <tbody>\n    <tr>\n      <th>002511b392561fc1d426d875c386b356a6fc5702</th>\n      <td>8312</td>\n      <td>1209</td>\n      <td>2290</td>\n      <td>1352</td>\n      <td>26685</td>\n      <td>20048</td>\n      <td>6308</td>\n      <td>16216</td>\n      <td>5039</td>\n      <td>7960</td>\n      <td>...</td>\n      <td>34535</td>\n      <td>15185</td>\n      <td>22648</td>\n      <td>4590</td>\n      <td>35471</td>\n      <td>20634</td>\n      <td>9682</td>\n      <td>25299</td>\n      <td>6835</td>\n      <td>17409</td>\n    </tr>\n    <tr>\n      <th>003998bc33cddeba02428a43391c6716e523c8f7</th>\n      <td>8312</td>\n      <td>1209</td>\n      <td>2290</td>\n      <td>1352</td>\n      <td>26685</td>\n      <td>20048</td>\n      <td>6308</td>\n      <td>16216</td>\n      <td>5039</td>\n      <td>7960</td>\n      <td>...</td>\n      <td>34535</td>\n      <td>15185</td>\n      <td>22648</td>\n      <td>4590</td>\n      <td>35471</td>\n      <td>20634</td>\n      <td>9682</td>\n      <td>25299</td>\n      <td>6835</td>\n      <td>17409</td>\n    </tr>\n    <tr>\n      <th>005b1fab38cdeb9d5bb97debcf73b44050994a3e</th>\n      <td>8312</td>\n      <td>1209</td>\n      <td>2290</td>\n      <td>1352</td>\n      <td>26685</td>\n      <td>20048</td>\n      <td>6308</td>\n      <td>16216</td>\n      <td>5039</td>\n      <td>7960</td>\n      <td>...</td>\n      <td>34535</td>\n      <td>15185</td>\n      <td>22648</td>\n      <td>4590</td>\n      <td>35471</td>\n      <td>20634</td>\n      <td>9682</td>\n      <td>25299</td>\n      <td>6835</td>\n      <td>17409</td>\n    </tr>\n    <tr>\n      <th>005cc5d858319f13f88228f62341e5a4270f8e75</th>\n      <td>8312</td>\n      <td>1209</td>\n      <td>2290</td>\n      <td>1352</td>\n      <td>26685</td>\n      <td>20048</td>\n      <td>6308</td>\n      <td>16216</td>\n      <td>5039</td>\n      <td>7960</td>\n      <td>...</td>\n      <td>34535</td>\n      <td>15185</td>\n      <td>22648</td>\n      <td>4590</td>\n      <td>35471</td>\n      <td>20634</td>\n      <td>9682</td>\n      <td>25299</td>\n      <td>6835</td>\n      <td>17409</td>\n    </tr>\n    <tr>\n      <th>006d3c79b9ed677280f8ddbc422d7b0fedd6d1fa</th>\n      <td>8312</td>\n      <td>1209</td>\n      <td>2290</td>\n      <td>1352</td>\n      <td>26685</td>\n      <td>20048</td>\n      <td>6308</td>\n      <td>16216</td>\n      <td>5039</td>\n      <td>7960</td>\n      <td>...</td>\n      <td>34535</td>\n      <td>15185</td>\n      <td>22648</td>\n      <td>4590</td>\n      <td>35471</td>\n      <td>20634</td>\n      <td>9682</td>\n      <td>25299</td>\n      <td>6835</td>\n      <td>17409</td>\n    </tr>\n  </tbody>\n</table>\n<p>5 rows × 100 columns</p>\n</div>"
     },
     "metadata": {},
     "execution_count": 44
    }
   ],
   "source": [
    "print(new_users_recommendations.shape)\n",
    "new_users_recommendations.head()"
   ]
  },
  {
   "cell_type": "code",
   "execution_count": 45,
   "metadata": {
    "tags": []
   },
   "outputs": [
    {
     "output_type": "stream",
     "name": "stdout",
     "text": "(1000, 100)\n"
    }
   ],
   "source": [
    "collab_filt_most_rated_test_df = pd.concat([collab_filt_most_rated_in_data_df, new_users_recommendations])\n",
    "print(collab_filt_most_rated_test_df.shape)"
   ]
  },
  {
   "cell_type": "code",
   "execution_count": 46,
   "metadata": {
    "tags": []
   },
   "outputs": [
    {
     "output_type": "stream",
     "name": "stdout",
     "text": "Saved to csv in 'data/collab_filt_recommendations.csv'.\n"
    }
   ],
   "source": [
    "# Save the collaborative filtering recommendations \n",
    "save_predictions(collab_filt_most_rated_test_df, os.path.join(\"data\", \"collab_filt_recommendations.csv\"))"
   ]
  },
  {
   "cell_type": "markdown",
   "metadata": {},
   "source": [
    "### Step 3.2 - Content-based recommendations"
   ]
  },
  {
   "cell_type": "code",
   "execution_count": 82,
   "metadata": {
    "tags": []
   },
   "outputs": [
    {
     "output_type": "stream",
     "name": "stdout",
     "text": "(4909471, 3)\n"
    },
    {
     "output_type": "execute_result",
     "data": {
      "text/plain": "   song_index  tag_index    val\n0      254229        206  100.0\n1      254229       1125   66.0\n2      254229        582   66.0\n3      254229        914   33.0\n4      254229         95   33.0",
      "text/html": "<div>\n<style scoped>\n    .dataframe tbody tr th:only-of-type {\n        vertical-align: middle;\n    }\n\n    .dataframe tbody tr th {\n        vertical-align: top;\n    }\n\n    .dataframe thead th {\n        text-align: right;\n    }\n</style>\n<table border=\"1\" class=\"dataframe\">\n  <thead>\n    <tr style=\"text-align: right;\">\n      <th></th>\n      <th>song_index</th>\n      <th>tag_index</th>\n      <th>val</th>\n    </tr>\n  </thead>\n  <tbody>\n    <tr>\n      <th>0</th>\n      <td>254229</td>\n      <td>206</td>\n      <td>100.0</td>\n    </tr>\n    <tr>\n      <th>1</th>\n      <td>254229</td>\n      <td>1125</td>\n      <td>66.0</td>\n    </tr>\n    <tr>\n      <th>2</th>\n      <td>254229</td>\n      <td>582</td>\n      <td>66.0</td>\n    </tr>\n    <tr>\n      <th>3</th>\n      <td>254229</td>\n      <td>914</td>\n      <td>33.0</td>\n    </tr>\n    <tr>\n      <th>4</th>\n      <td>254229</td>\n      <td>95</td>\n      <td>33.0</td>\n    </tr>\n  </tbody>\n</table>\n</div>"
     },
     "metadata": {},
     "execution_count": 82
    }
   ],
   "source": [
    "# If you had a FileNotFoundError, make sure you have unziped the `song_tag.zip` file.\n",
    "def read_tags() -> pd.DataFrame:\n",
    "    \"\"\"Import the song tags file.\n",
    "    \n",
    "    Returns:\n",
    "        tags (pd.DataFrame): DataFrame with song_index, tag_index and value of the tag in the song.\n",
    "        \n",
    "    \"\"\"\n",
    "    path = os.path.join('data', 'song_tag.csv')\n",
    "    data = pd.read_csv(path)\n",
    "    return data\n",
    "\n",
    "\n",
    "tags = read_tags()\n",
    "print(tags.shape)\n",
    "tags.head()"
   ]
  },
  {
   "cell_type": "code",
   "execution_count": 83,
   "metadata": {
    "tags": []
   },
   "outputs": [
    {
     "output_type": "stream",
     "name": "stdout",
     "text": "(386213, 2)\n"
    },
    {
     "output_type": "execute_result",
     "data": {
      "text/plain": "              song_id  song_index\n0  SOAAADD12AB018A9DD           1\n1  SOAAADE12A6D4F80CC           2\n2  SOAAADF12A8C13DF62           3\n3  SOAAADZ12A8C1334FB           4\n4  SOAAAFI12A6D4F9C66           5",
      "text/html": "<div>\n<style scoped>\n    .dataframe tbody tr th:only-of-type {\n        vertical-align: middle;\n    }\n\n    .dataframe tbody tr th {\n        vertical-align: top;\n    }\n\n    .dataframe thead th {\n        text-align: right;\n    }\n</style>\n<table border=\"1\" class=\"dataframe\">\n  <thead>\n    <tr style=\"text-align: right;\">\n      <th></th>\n      <th>song_id</th>\n      <th>song_index</th>\n    </tr>\n  </thead>\n  <tbody>\n    <tr>\n      <th>0</th>\n      <td>SOAAADD12AB018A9DD</td>\n      <td>1</td>\n    </tr>\n    <tr>\n      <th>1</th>\n      <td>SOAAADE12A6D4F80CC</td>\n      <td>2</td>\n    </tr>\n    <tr>\n      <th>2</th>\n      <td>SOAAADF12A8C13DF62</td>\n      <td>3</td>\n    </tr>\n    <tr>\n      <th>3</th>\n      <td>SOAAADZ12A8C1334FB</td>\n      <td>4</td>\n    </tr>\n    <tr>\n      <th>4</th>\n      <td>SOAAAFI12A6D4F9C66</td>\n      <td>5</td>\n    </tr>\n  </tbody>\n</table>\n</div>"
     },
     "metadata": {},
     "execution_count": 83
    }
   ],
   "source": [
    "def read_songs() -> pd.DataFrame:\n",
    "    \"\"\"Import the songs file.\n",
    "    \n",
    "    Returns:\n",
    "        songs (pd.DataFrame): DataFrame containing the song_id and the corresponding song_index.\n",
    "    \n",
    "    \"\"\"\n",
    "    path = os.path.join('data', 'songs.txt')\n",
    "    data = pd.read_csv(path, names=['song_id', 'song_index'], sep=' ')\n",
    "    return data\n",
    "\n",
    "\n",
    "songs= read_songs()\n",
    "print(songs.shape)\n",
    "songs.head()"
   ]
  },
  {
   "cell_type": "code",
   "execution_count": 85,
   "metadata": {
    "tags": []
   },
   "outputs": [
    {
     "output_type": "stream",
     "name": "stdout",
     "text": "(4773486, 3)\n"
    },
    {
     "output_type": "execute_result",
     "data": {
      "text/plain": "              song_id  tag_index    val\n0  SOBONKR12A58A7A7E0      527.0  100.0\n1  SOBONKR12A58A7A7E0      384.0   28.0\n2  SOBONKR12A58A7A7E0       98.0   28.0\n3  SOBONKR12A58A7A7E0     4070.0   14.0\n4  SOBONKR12A58A7A7E0   139705.0   14.0",
      "text/html": "<div>\n<style scoped>\n    .dataframe tbody tr th:only-of-type {\n        vertical-align: middle;\n    }\n\n    .dataframe tbody tr th {\n        vertical-align: top;\n    }\n\n    .dataframe thead th {\n        text-align: right;\n    }\n</style>\n<table border=\"1\" class=\"dataframe\">\n  <thead>\n    <tr style=\"text-align: right;\">\n      <th></th>\n      <th>song_id</th>\n      <th>tag_index</th>\n      <th>val</th>\n    </tr>\n  </thead>\n  <tbody>\n    <tr>\n      <th>0</th>\n      <td>SOBONKR12A58A7A7E0</td>\n      <td>527.0</td>\n      <td>100.0</td>\n    </tr>\n    <tr>\n      <th>1</th>\n      <td>SOBONKR12A58A7A7E0</td>\n      <td>384.0</td>\n      <td>28.0</td>\n    </tr>\n    <tr>\n      <th>2</th>\n      <td>SOBONKR12A58A7A7E0</td>\n      <td>98.0</td>\n      <td>28.0</td>\n    </tr>\n    <tr>\n      <th>3</th>\n      <td>SOBONKR12A58A7A7E0</td>\n      <td>4070.0</td>\n      <td>14.0</td>\n    </tr>\n    <tr>\n      <th>4</th>\n      <td>SOBONKR12A58A7A7E0</td>\n      <td>139705.0</td>\n      <td>14.0</td>\n    </tr>\n  </tbody>\n</table>\n</div>"
     },
     "metadata": {},
     "execution_count": 85
    }
   ],
   "source": [
    "def merge_tags_songs(tags: pd.DataFrame, songs: pd.DataFrame, data: pd.DataFrame) -> pd.DataFrame:\n",
    "    \"\"\"Join the tags, songs and ratings data sources into a single dataframe).\n",
    "    \n",
    "    Args:\n",
    "        tags (pd.DataFram): DataFrame with song_index, tag_index and value of the tag in the song.\n",
    "        songs (pd.DataFrame): DataFrame containing the song_id and the corresponding song_index.\n",
    "        data (pd.DataFrame): Listening history for the users.\n",
    "\n",
    "    Returns:\n",
    "        tags_cleaned (pd.DataFrame): Matches the song_id to the tag_index with a corresponding value.\n",
    "    \n",
    "    \"\"\"\n",
    "    tags_cleaned = (tags.merge(songs, how='left', on='song_index')\n",
    "                        .merge(data, how='right', on='song_id')\n",
    "                   )[['song_id', 'tag_index', 'val']]\n",
    "    return tags_cleaned\n",
    "\n",
    "tags_cleaned = merge_tags_songs(tags, songs, data)\n",
    "print(tags_cleaned.shape)\n",
    "tags_cleaned.head()"
   ]
  },
  {
   "cell_type": "code",
   "execution_count": 86,
   "metadata": {},
   "outputs": [
    {
     "output_type": "execute_result",
     "data": {
      "text/plain": "41194"
     },
     "metadata": {},
     "execution_count": 86
    }
   ],
   "source": [
    "# Get the number of unique song_id's for which we have tags. \n",
    "tags_cleaned.song_id.nunique()"
   ]
  },
  {
   "cell_type": "markdown",
   "metadata": {},
   "source": [
    "In `make_item_profiles` below we are also instantiating `csr_matrix` using `ndarray`s instead of using `pd.DataFrame.pivot()`."
   ]
  },
  {
   "cell_type": "code",
   "execution_count": 90,
   "metadata": {},
   "outputs": [
    {
     "output_type": "execute_result",
     "data": {
      "text/plain": "<41194x219644 sparse matrix of type '<class 'numpy.float64'>'\n\twith 1364190 stored elements in Compressed Sparse Row format>"
     },
     "metadata": {},
     "execution_count": 90
    }
   ],
   "source": [
    "def make_item_profiles(data: pd.DataFrame) -> csr_matrix:\n",
    "    \"\"\"Creates the item profiles matrix.\n",
    "    \n",
    "    Args:\n",
    "        data (pd.DataFrame): DataFrame containing the (rows, columns, values) for the ratings matrix.\n",
    "                             In this case, we have (song_id, tag_index, value).\n",
    "    \n",
    "    Returns:\n",
    "        item_profiles (csr_matrix): Item profiles matrix. Items as rows, tags as columns.\n",
    "    \n",
    "    \"\"\"\n",
    "    items, item_pos = np.unique(data.iloc[:, 0].values, return_inverse=True)\n",
    "    tags, tag_pos = np.unique(data.iloc[:, 1].values, return_inverse=True)\n",
    "    values = data.iloc[:, 2].fillna(0).values\n",
    "    \n",
    "    shape = (len(items), len(tags))\n",
    "\n",
    "    item_profiles_ = csr_matrix((values, (item_pos, tag_pos)), shape=shape)\n",
    "    return item_profiles_\n",
    "\n",
    "\n",
    "item_profiles = make_item_profiles(tags_cleaned)\n",
    "item_profiles"
   ]
  },
  {
   "cell_type": "code",
   "execution_count": 92,
   "metadata": {},
   "outputs": [
    {
     "output_type": "execute_result",
     "data": {
      "text/plain": "<7526x219644 sparse matrix of type '<class 'numpy.float64'>'\n\twith 1990023 stored elements in Compressed Sparse Row format>"
     },
     "metadata": {},
     "execution_count": 92
    }
   ],
   "source": [
    "def make_user_profiles(R_: csr_matrix, item_profiles_: csr_matrix) -> csr_matrix:\n",
    "    \"\"\"Calculate the user profiles with the items.\n",
    "    \n",
    "    Args:\n",
    "        R_ (csr_matrix): Ratings matrix with shape (n_users, n_items).\n",
    "        item_profiles_ (csr_matrix): Item profiles matrix with shape (n_items, n_tags).\n",
    "        \n",
    "    Returns:\n",
    "        user_profiles (csr_matrix): User profiles considering the ratings and the item profiles, with shape (n_users, n_tags).\n",
    "        \n",
    "    \"\"\"\n",
    "    return np.dot(R_, item_profiles_)\n",
    "\n",
    "\n",
    "user_profiles = make_user_profiles(ratings_train, item_profiles)\n",
    "user_profiles"
   ]
  },
  {
   "cell_type": "code",
   "execution_count": 93,
   "metadata": {},
   "outputs": [
    {
     "output_type": "execute_result",
     "data": {
      "text/plain": "<7526x41194 sparse matrix of type '<class 'numpy.float64'>'\n\twith 196804067 stored elements in Compressed Sparse Row format>"
     },
     "metadata": {},
     "execution_count": 93
    }
   ],
   "source": [
    "def make_user_predictions_content(R_: csr_matrix, item_profiles_: csr_matrix, user_profiles_: csr_matrix) -> csr_matrix:\n",
    "    \"\"\"Produces content-based predictions.\n",
    "    \n",
    "    Args:\n",
    "        R_ (csr_matrix): Ratings matrix with shape (n_users, n_items).\n",
    "        item_profiles_ (csr_matrix): Item profiles matrix with shape (n_items, n_tags).\n",
    "        user_profiles (csr_matrix): User profiles considering the ratings and the item profiles, with shape (n_users, n_tags).\n",
    "       \n",
    "    Returns:\n",
    "        preds (csr_matrix): Predictions of ratings using content-based recommendations.\n",
    "    \n",
    "    \"\"\"\n",
    "    \n",
    "    # Since we are not looking at the values inbetween the cosine_similarity and excluding previously rated items,\n",
    "    # we can define dense_output=False to speed up.\n",
    "    preds = cosine_similarity(user_profiles_, item_profiles_, dense_output=False)\n",
    "    \n",
    "    # Exclude previously rated items.\n",
    "    preds[R_.nonzero()] = 0\n",
    "    \n",
    "    return preds\n",
    "\n",
    "\n",
    "content_user_preds = make_user_predictions_content(ratings_train, item_profiles, user_profiles)\n",
    "content_user_preds"
   ]
  },
  {
   "cell_type": "code",
   "execution_count": 94,
   "metadata": {
    "tags": []
   },
   "outputs": [
    {
     "output_type": "stream",
     "name": "stdout",
     "text": "(7526, 100)\n"
    },
    {
     "output_type": "execute_result",
     "data": {
      "text/plain": "array([[37668, 38513,  5656, ..., 16140, 17991, 15207],\n       [23216, 27284,  2599, ..., 15536,  1020, 19335],\n       [34570, 29126, 32327, ..., 33997, 35430, 22921],\n       ...,\n       [20603, 33715, 10530, ..., 23501, 37779, 34447],\n       [21358, 39601,  2405, ..., 41188, 30743, 18640],\n       [    0, 27457, 27458, ..., 27385, 27393, 27375]])"
     },
     "metadata": {},
     "execution_count": 94
    }
   ],
   "source": [
    "content_most_rated = get_most_rated_from_user_preds(content_user_preds, 100)\n",
    "print(content_most_rated.shape)\n",
    "content_most_rated"
   ]
  },
  {
   "cell_type": "code",
   "execution_count": 95,
   "metadata": {
    "tags": []
   },
   "outputs": [
    {
     "output_type": "stream",
     "name": "stdout",
     "text": "(7526, 100)\n"
    },
    {
     "output_type": "execute_result",
     "data": {
      "text/plain": "                                             0      1      2      3      4   \\\nusers to recommend songs                                                      \n0011d5f4fb02ff276763d385c3f2ded2b00ad94a  37668  38513   5656  16966    411   \n002511b392561fc1d426d875c386b356a6fc5702  23216  27284   2599  24227  12260   \n002dfbc3c073b55a64a4abab34c0ca1f13897f1c  34570  29126  32327  33729  21206   \n003998bc33cddeba02428a43391c6716e523c8f7  40865  23371   3422  12486  39739   \n0042d2027dfa0340e31d2aa875c4be229730efb7  14192  25368  35300   5475  39809   \n\n                                             5      6      7      8      9   \\\nusers to recommend songs                                                      \n0011d5f4fb02ff276763d385c3f2ded2b00ad94a   4285  20825  35242  22996  26463   \n002511b392561fc1d426d875c386b356a6fc5702  32545  18295  16275  40523  15717   \n002dfbc3c073b55a64a4abab34c0ca1f13897f1c   7048  28306  30998   3676  14075   \n003998bc33cddeba02428a43391c6716e523c8f7  40923  17608  24930  26236  37841   \n0042d2027dfa0340e31d2aa875c4be229730efb7  32482  23056  16255  18012  39891   \n\n                                          ...     90     91     92     93  \\\nusers to recommend songs                  ...                               \n0011d5f4fb02ff276763d385c3f2ded2b00ad94a  ...  10061  35081  19904  19394   \n002511b392561fc1d426d875c386b356a6fc5702  ...   3378  32000  15879  37723   \n002dfbc3c073b55a64a4abab34c0ca1f13897f1c  ...  19569  36642  29298  29592   \n003998bc33cddeba02428a43391c6716e523c8f7  ...  38476  13475  22242  11328   \n0042d2027dfa0340e31d2aa875c4be229730efb7  ...   8250  31210  25192   9891   \n\n                                             94     95     96     97     98  \\\nusers to recommend songs                                                      \n0011d5f4fb02ff276763d385c3f2ded2b00ad94a  23030  16154  32646  16140  17991   \n002511b392561fc1d426d875c386b356a6fc5702  18830  32544  18281  15536   1020   \n002dfbc3c073b55a64a4abab34c0ca1f13897f1c   5035  10444  33949  33997  35430   \n003998bc33cddeba02428a43391c6716e523c8f7   8356   3627  35935  10735  22181   \n0042d2027dfa0340e31d2aa875c4be229730efb7  34373  17447   6565    255  24213   \n\n                                             99  \nusers to recommend songs                         \n0011d5f4fb02ff276763d385c3f2ded2b00ad94a  15207  \n002511b392561fc1d426d875c386b356a6fc5702  19335  \n002dfbc3c073b55a64a4abab34c0ca1f13897f1c  22921  \n003998bc33cddeba02428a43391c6716e523c8f7  22448  \n0042d2027dfa0340e31d2aa875c4be229730efb7  17735  \n\n[5 rows x 100 columns]",
      "text/html": "<div>\n<style scoped>\n    .dataframe tbody tr th:only-of-type {\n        vertical-align: middle;\n    }\n\n    .dataframe tbody tr th {\n        vertical-align: top;\n    }\n\n    .dataframe thead th {\n        text-align: right;\n    }\n</style>\n<table border=\"1\" class=\"dataframe\">\n  <thead>\n    <tr style=\"text-align: right;\">\n      <th></th>\n      <th>0</th>\n      <th>1</th>\n      <th>2</th>\n      <th>3</th>\n      <th>4</th>\n      <th>5</th>\n      <th>6</th>\n      <th>7</th>\n      <th>8</th>\n      <th>9</th>\n      <th>...</th>\n      <th>90</th>\n      <th>91</th>\n      <th>92</th>\n      <th>93</th>\n      <th>94</th>\n      <th>95</th>\n      <th>96</th>\n      <th>97</th>\n      <th>98</th>\n      <th>99</th>\n    </tr>\n    <tr>\n      <th>users to recommend songs</th>\n      <th></th>\n      <th></th>\n      <th></th>\n      <th></th>\n      <th></th>\n      <th></th>\n      <th></th>\n      <th></th>\n      <th></th>\n      <th></th>\n      <th></th>\n      <th></th>\n      <th></th>\n      <th></th>\n      <th></th>\n      <th></th>\n      <th></th>\n      <th></th>\n      <th></th>\n      <th></th>\n      <th></th>\n    </tr>\n  </thead>\n  <tbody>\n    <tr>\n      <th>0011d5f4fb02ff276763d385c3f2ded2b00ad94a</th>\n      <td>37668</td>\n      <td>38513</td>\n      <td>5656</td>\n      <td>16966</td>\n      <td>411</td>\n      <td>4285</td>\n      <td>20825</td>\n      <td>35242</td>\n      <td>22996</td>\n      <td>26463</td>\n      <td>...</td>\n      <td>10061</td>\n      <td>35081</td>\n      <td>19904</td>\n      <td>19394</td>\n      <td>23030</td>\n      <td>16154</td>\n      <td>32646</td>\n      <td>16140</td>\n      <td>17991</td>\n      <td>15207</td>\n    </tr>\n    <tr>\n      <th>002511b392561fc1d426d875c386b356a6fc5702</th>\n      <td>23216</td>\n      <td>27284</td>\n      <td>2599</td>\n      <td>24227</td>\n      <td>12260</td>\n      <td>32545</td>\n      <td>18295</td>\n      <td>16275</td>\n      <td>40523</td>\n      <td>15717</td>\n      <td>...</td>\n      <td>3378</td>\n      <td>32000</td>\n      <td>15879</td>\n      <td>37723</td>\n      <td>18830</td>\n      <td>32544</td>\n      <td>18281</td>\n      <td>15536</td>\n      <td>1020</td>\n      <td>19335</td>\n    </tr>\n    <tr>\n      <th>002dfbc3c073b55a64a4abab34c0ca1f13897f1c</th>\n      <td>34570</td>\n      <td>29126</td>\n      <td>32327</td>\n      <td>33729</td>\n      <td>21206</td>\n      <td>7048</td>\n      <td>28306</td>\n      <td>30998</td>\n      <td>3676</td>\n      <td>14075</td>\n      <td>...</td>\n      <td>19569</td>\n      <td>36642</td>\n      <td>29298</td>\n      <td>29592</td>\n      <td>5035</td>\n      <td>10444</td>\n      <td>33949</td>\n      <td>33997</td>\n      <td>35430</td>\n      <td>22921</td>\n    </tr>\n    <tr>\n      <th>003998bc33cddeba02428a43391c6716e523c8f7</th>\n      <td>40865</td>\n      <td>23371</td>\n      <td>3422</td>\n      <td>12486</td>\n      <td>39739</td>\n      <td>40923</td>\n      <td>17608</td>\n      <td>24930</td>\n      <td>26236</td>\n      <td>37841</td>\n      <td>...</td>\n      <td>38476</td>\n      <td>13475</td>\n      <td>22242</td>\n      <td>11328</td>\n      <td>8356</td>\n      <td>3627</td>\n      <td>35935</td>\n      <td>10735</td>\n      <td>22181</td>\n      <td>22448</td>\n    </tr>\n    <tr>\n      <th>0042d2027dfa0340e31d2aa875c4be229730efb7</th>\n      <td>14192</td>\n      <td>25368</td>\n      <td>35300</td>\n      <td>5475</td>\n      <td>39809</td>\n      <td>32482</td>\n      <td>23056</td>\n      <td>16255</td>\n      <td>18012</td>\n      <td>39891</td>\n      <td>...</td>\n      <td>8250</td>\n      <td>31210</td>\n      <td>25192</td>\n      <td>9891</td>\n      <td>34373</td>\n      <td>17447</td>\n      <td>6565</td>\n      <td>255</td>\n      <td>24213</td>\n      <td>17735</td>\n    </tr>\n  </tbody>\n</table>\n<p>5 rows × 100 columns</p>\n</div>"
     },
     "metadata": {},
     "execution_count": 95
    }
   ],
   "source": [
    "content_most_rated_df = convert_pers_recommendations_to_df(content_most_rated, unique_users_training_data)\n",
    "print(content_most_rated_df.shape)\n",
    "content_most_rated_df.head()"
   ]
  },
  {
   "cell_type": "code",
   "execution_count": 96,
   "metadata": {},
   "outputs": [
    {
     "output_type": "execute_result",
     "data": {
      "text/plain": "{'0011d5f4fb02ff276763d385c3f2ded2b00ad94a': [37668,\n  38513,\n  5656,\n  16966,\n  411,\n  4285,\n  20825,\n  35242,\n  22996,\n  26463,\n  3209,\n  29770,\n  25944,\n  23080,\n  35339,\n  9427,\n  28609,\n  38650,\n  30422,\n  646,\n  20268,\n  14628,\n  15670,\n  21986,\n  8082,\n  6874,\n  34464,\n  37091,\n  16429,\n  21977,\n  38240,\n  30968,\n  20069,\n  8099,\n  9482,\n  23082,\n  1023,\n  31818,\n  31094,\n  32753,\n  22275,\n  18939,\n  10769,\n  35448,\n  2392,\n  33962,\n  24648,\n  37316,\n  38657,\n  25739,\n  38509,\n  29795,\n  11615,\n  17444,\n  40984,\n  33152,\n  5859,\n  8172,\n  26637,\n  3018,\n  7676,\n  17064,\n  30701,\n  28776,\n  27009,\n  34007,\n  18801,\n  40959,\n  28849,\n  11487,\n  39481,\n  15457,\n  6068,\n  32369,\n  36022,\n  12894,\n  2895,\n  20907,\n  13714,\n  13229,\n  29218,\n  15740,\n  32239,\n  20712,\n  14868,\n  22360,\n  8393,\n  41066,\n  26153,\n  786,\n  10061,\n  35081,\n  19904,\n  19394,\n  23030,\n  16154,\n  32646,\n  16140,\n  17991,\n  15207],\n '002511b392561fc1d426d875c386b356a6fc5702': [23216,\n  27284,\n  2599,\n  24227,\n  12260,\n  32545,\n  18295,\n  16275,\n  40523,\n  15717,\n  13161,\n  33052,\n  23653,\n  3313,\n  7973,\n  18064,\n  38496,\n  17547,\n  14737,\n  39827,\n  15647,\n  15734,\n  21443,\n  37001,\n  34188,\n  21712,\n  38747,\n  8272,\n  7761,\n  14820,\n  5751,\n  38677,\n  35693,\n  26342,\n  5074,\n  5691,\n  41103,\n  27091,\n  5215,\n  36226,\n  23478,\n  26403,\n  8725,\n  1645,\n  19059,\n  17256,\n  20071,\n  33333,\n  33053,\n  25680,\n  23249,\n  4035,\n  24826,\n  5115,\n  28819,\n  1299,\n  24909,\n  34136,\n  38577,\n  8425,\n  840,\n  12128,\n  14142,\n  37820,\n  36254,\n  21496,\n  6671,\n  21352,\n  11773,\n  12396,\n  25416,\n  34801,\n  35036,\n  26173,\n  39435,\n  7264,\n  24034,\n  29001,\n  8066,\n  743,\n  19221,\n  37705,\n  13856,\n  16061,\n  37014,\n  17961,\n  9072,\n  2473,\n  32160,\n  920,\n  3378,\n  32000,\n  15879,\n  37723,\n  18830,\n  32544,\n  18281,\n  15536,\n  1020,\n  19335]}"
     },
     "metadata": {},
     "execution_count": 96
    }
   ],
   "source": [
    "content_dict = create_dict_preds(content_most_rated_df)\n",
    "# Since dicts in python are not ordered, we need to HAMMER DOWN a way to print some values.\n",
    "dict(list(content_dict.items())[0:2])"
   ]
  },
  {
   "cell_type": "markdown",
   "metadata": {},
   "source": [
    "## Evaluate\n",
    "We use again the Mean Average Precision @ K to evaluate our predictions."
   ]
  },
  {
   "cell_type": "code",
   "execution_count": 97,
   "metadata": {
    "scrolled": true
   },
   "outputs": [
    {
     "output_type": "execute_result",
     "data": {
      "text/plain": "0.0009937371360594822"
     },
     "metadata": {},
     "execution_count": 97
    }
   ],
   "source": [
    "evaluate(y_true_dict, content_dict)"
   ]
  },
  {
   "cell_type": "markdown",
   "metadata": {},
   "source": [
    "## Predict \n",
    "To submit your predictions, you just need to convert your recommendations to the format we have in the `example_output.csv` file."
   ]
  },
  {
   "cell_type": "code",
   "execution_count": 98,
   "metadata": {
    "tags": []
   },
   "outputs": [
    {
     "output_type": "stream",
     "name": "stdout",
     "text": "(700, 100)\n"
    },
    {
     "output_type": "execute_result",
     "data": {
      "text/plain": "                                             0      1      2      3      4   \\\nusers to recommend songs                                                      \n56d985c92960b98ad76a48b10a062b0cd86795bf  34205     93  17641  15026  39627   \n991411f0dca94f348c7bd3eae93b6e6c061605f1  14384  16672   7319   8682  26524   \n323fbb28144eefa3eabfa22bd310dfb0713de80d  26532  36900  40471   8476  31638   \n55c750f0951ca1021b26c0e758660bb8a2c49d3a  31759  10421  20366  39719  15188   \nb458e3d697276a93aa6926caf1ff08e875933940   9406  10037  24926   6874  18815   \n\n                                             5      6      7      8      9   \\\nusers to recommend songs                                                      \n56d985c92960b98ad76a48b10a062b0cd86795bf  25194   9051  35365   1814   2036   \n991411f0dca94f348c7bd3eae93b6e6c061605f1  21879  33398  12991    709   8930   \n323fbb28144eefa3eabfa22bd310dfb0713de80d  17357  15468  31757   2802  12893   \n55c750f0951ca1021b26c0e758660bb8a2c49d3a  13119   6235  12144  35116  38409   \nb458e3d697276a93aa6926caf1ff08e875933940  25938  31243  31348  20375  33345   \n\n                                          ...     90     91     92     93  \\\nusers to recommend songs                  ...                               \n56d985c92960b98ad76a48b10a062b0cd86795bf  ...  28445  10301  13567  11524   \n991411f0dca94f348c7bd3eae93b6e6c061605f1  ...   7497  23800  24572  35811   \n323fbb28144eefa3eabfa22bd310dfb0713de80d  ...  23771  35357  23845  25988   \n55c750f0951ca1021b26c0e758660bb8a2c49d3a  ...  25063  29992   6916  20372   \nb458e3d697276a93aa6926caf1ff08e875933940  ...  19298  35468  22720  27327   \n\n                                             94     95     96     97     98  \\\nusers to recommend songs                                                      \n56d985c92960b98ad76a48b10a062b0cd86795bf  20549  25170  39312  16949  34879   \n991411f0dca94f348c7bd3eae93b6e6c061605f1    972  34469  28743  27197    279   \n323fbb28144eefa3eabfa22bd310dfb0713de80d  18843  41007    406  31729  28073   \n55c750f0951ca1021b26c0e758660bb8a2c49d3a  11439  34253  35966   1253  22540   \nb458e3d697276a93aa6926caf1ff08e875933940   2535  40505  12961   4646  26924   \n\n                                             99  \nusers to recommend songs                         \n56d985c92960b98ad76a48b10a062b0cd86795bf  29697  \n991411f0dca94f348c7bd3eae93b6e6c061605f1  36996  \n323fbb28144eefa3eabfa22bd310dfb0713de80d   6986  \n55c750f0951ca1021b26c0e758660bb8a2c49d3a   2765  \nb458e3d697276a93aa6926caf1ff08e875933940   7303  \n\n[5 rows x 100 columns]",
      "text/html": "<div>\n<style scoped>\n    .dataframe tbody tr th:only-of-type {\n        vertical-align: middle;\n    }\n\n    .dataframe tbody tr th {\n        vertical-align: top;\n    }\n\n    .dataframe thead th {\n        text-align: right;\n    }\n</style>\n<table border=\"1\" class=\"dataframe\">\n  <thead>\n    <tr style=\"text-align: right;\">\n      <th></th>\n      <th>0</th>\n      <th>1</th>\n      <th>2</th>\n      <th>3</th>\n      <th>4</th>\n      <th>5</th>\n      <th>6</th>\n      <th>7</th>\n      <th>8</th>\n      <th>9</th>\n      <th>...</th>\n      <th>90</th>\n      <th>91</th>\n      <th>92</th>\n      <th>93</th>\n      <th>94</th>\n      <th>95</th>\n      <th>96</th>\n      <th>97</th>\n      <th>98</th>\n      <th>99</th>\n    </tr>\n    <tr>\n      <th>users to recommend songs</th>\n      <th></th>\n      <th></th>\n      <th></th>\n      <th></th>\n      <th></th>\n      <th></th>\n      <th></th>\n      <th></th>\n      <th></th>\n      <th></th>\n      <th></th>\n      <th></th>\n      <th></th>\n      <th></th>\n      <th></th>\n      <th></th>\n      <th></th>\n      <th></th>\n      <th></th>\n      <th></th>\n      <th></th>\n    </tr>\n  </thead>\n  <tbody>\n    <tr>\n      <th>56d985c92960b98ad76a48b10a062b0cd86795bf</th>\n      <td>34205</td>\n      <td>93</td>\n      <td>17641</td>\n      <td>15026</td>\n      <td>39627</td>\n      <td>25194</td>\n      <td>9051</td>\n      <td>35365</td>\n      <td>1814</td>\n      <td>2036</td>\n      <td>...</td>\n      <td>28445</td>\n      <td>10301</td>\n      <td>13567</td>\n      <td>11524</td>\n      <td>20549</td>\n      <td>25170</td>\n      <td>39312</td>\n      <td>16949</td>\n      <td>34879</td>\n      <td>29697</td>\n    </tr>\n    <tr>\n      <th>991411f0dca94f348c7bd3eae93b6e6c061605f1</th>\n      <td>14384</td>\n      <td>16672</td>\n      <td>7319</td>\n      <td>8682</td>\n      <td>26524</td>\n      <td>21879</td>\n      <td>33398</td>\n      <td>12991</td>\n      <td>709</td>\n      <td>8930</td>\n      <td>...</td>\n      <td>7497</td>\n      <td>23800</td>\n      <td>24572</td>\n      <td>35811</td>\n      <td>972</td>\n      <td>34469</td>\n      <td>28743</td>\n      <td>27197</td>\n      <td>279</td>\n      <td>36996</td>\n    </tr>\n    <tr>\n      <th>323fbb28144eefa3eabfa22bd310dfb0713de80d</th>\n      <td>26532</td>\n      <td>36900</td>\n      <td>40471</td>\n      <td>8476</td>\n      <td>31638</td>\n      <td>17357</td>\n      <td>15468</td>\n      <td>31757</td>\n      <td>2802</td>\n      <td>12893</td>\n      <td>...</td>\n      <td>23771</td>\n      <td>35357</td>\n      <td>23845</td>\n      <td>25988</td>\n      <td>18843</td>\n      <td>41007</td>\n      <td>406</td>\n      <td>31729</td>\n      <td>28073</td>\n      <td>6986</td>\n    </tr>\n    <tr>\n      <th>55c750f0951ca1021b26c0e758660bb8a2c49d3a</th>\n      <td>31759</td>\n      <td>10421</td>\n      <td>20366</td>\n      <td>39719</td>\n      <td>15188</td>\n      <td>13119</td>\n      <td>6235</td>\n      <td>12144</td>\n      <td>35116</td>\n      <td>38409</td>\n      <td>...</td>\n      <td>25063</td>\n      <td>29992</td>\n      <td>6916</td>\n      <td>20372</td>\n      <td>11439</td>\n      <td>34253</td>\n      <td>35966</td>\n      <td>1253</td>\n      <td>22540</td>\n      <td>2765</td>\n    </tr>\n    <tr>\n      <th>b458e3d697276a93aa6926caf1ff08e875933940</th>\n      <td>9406</td>\n      <td>10037</td>\n      <td>24926</td>\n      <td>6874</td>\n      <td>18815</td>\n      <td>25938</td>\n      <td>31243</td>\n      <td>31348</td>\n      <td>20375</td>\n      <td>33345</td>\n      <td>...</td>\n      <td>19298</td>\n      <td>35468</td>\n      <td>22720</td>\n      <td>27327</td>\n      <td>2535</td>\n      <td>40505</td>\n      <td>12961</td>\n      <td>4646</td>\n      <td>26924</td>\n      <td>7303</td>\n    </tr>\n  </tbody>\n</table>\n<p>5 rows × 100 columns</p>\n</div>"
     },
     "metadata": {},
     "execution_count": 98
    }
   ],
   "source": [
    "content_most_rated_in_data_df = content_most_rated_df.loc[test_users_in_data.iloc[:, 0].to_list()]\n",
    "print(content_most_rated_in_data_df.shape)\n",
    "content_most_rated_in_data_df.head()"
   ]
  },
  {
   "cell_type": "code",
   "execution_count": 99,
   "metadata": {
    "tags": []
   },
   "outputs": [
    {
     "output_type": "stream",
     "name": "stdout",
     "text": "(300, 100)\n"
    },
    {
     "output_type": "execute_result",
     "data": {
      "text/plain": "                                            0     1     2     3      4   \\\nusers to recommend songs                                                  \n002511b392561fc1d426d875c386b356a6fc5702  8312  1209  2290  1352  26685   \n003998bc33cddeba02428a43391c6716e523c8f7  8312  1209  2290  1352  26685   \n005b1fab38cdeb9d5bb97debcf73b44050994a3e  8312  1209  2290  1352  26685   \n005cc5d858319f13f88228f62341e5a4270f8e75  8312  1209  2290  1352  26685   \n006d3c79b9ed677280f8ddbc422d7b0fedd6d1fa  8312  1209  2290  1352  26685   \n\n                                             5     6      7     8     9   ...  \\\nusers to recommend songs                                                  ...   \n002511b392561fc1d426d875c386b356a6fc5702  20048  6308  16216  5039  7960  ...   \n003998bc33cddeba02428a43391c6716e523c8f7  20048  6308  16216  5039  7960  ...   \n005b1fab38cdeb9d5bb97debcf73b44050994a3e  20048  6308  16216  5039  7960  ...   \n005cc5d858319f13f88228f62341e5a4270f8e75  20048  6308  16216  5039  7960  ...   \n006d3c79b9ed677280f8ddbc422d7b0fedd6d1fa  20048  6308  16216  5039  7960  ...   \n\n                                             90     91     92    93     94  \\\nusers to recommend songs                                                     \n002511b392561fc1d426d875c386b356a6fc5702  34535  15185  22648  4590  35471   \n003998bc33cddeba02428a43391c6716e523c8f7  34535  15185  22648  4590  35471   \n005b1fab38cdeb9d5bb97debcf73b44050994a3e  34535  15185  22648  4590  35471   \n005cc5d858319f13f88228f62341e5a4270f8e75  34535  15185  22648  4590  35471   \n006d3c79b9ed677280f8ddbc422d7b0fedd6d1fa  34535  15185  22648  4590  35471   \n\n                                             95    96     97    98     99  \nusers to recommend songs                                                   \n002511b392561fc1d426d875c386b356a6fc5702  20634  9682  25299  6835  17409  \n003998bc33cddeba02428a43391c6716e523c8f7  20634  9682  25299  6835  17409  \n005b1fab38cdeb9d5bb97debcf73b44050994a3e  20634  9682  25299  6835  17409  \n005cc5d858319f13f88228f62341e5a4270f8e75  20634  9682  25299  6835  17409  \n006d3c79b9ed677280f8ddbc422d7b0fedd6d1fa  20634  9682  25299  6835  17409  \n\n[5 rows x 100 columns]",
      "text/html": "<div>\n<style scoped>\n    .dataframe tbody tr th:only-of-type {\n        vertical-align: middle;\n    }\n\n    .dataframe tbody tr th {\n        vertical-align: top;\n    }\n\n    .dataframe thead th {\n        text-align: right;\n    }\n</style>\n<table border=\"1\" class=\"dataframe\">\n  <thead>\n    <tr style=\"text-align: right;\">\n      <th></th>\n      <th>0</th>\n      <th>1</th>\n      <th>2</th>\n      <th>3</th>\n      <th>4</th>\n      <th>5</th>\n      <th>6</th>\n      <th>7</th>\n      <th>8</th>\n      <th>9</th>\n      <th>...</th>\n      <th>90</th>\n      <th>91</th>\n      <th>92</th>\n      <th>93</th>\n      <th>94</th>\n      <th>95</th>\n      <th>96</th>\n      <th>97</th>\n      <th>98</th>\n      <th>99</th>\n    </tr>\n    <tr>\n      <th>users to recommend songs</th>\n      <th></th>\n      <th></th>\n      <th></th>\n      <th></th>\n      <th></th>\n      <th></th>\n      <th></th>\n      <th></th>\n      <th></th>\n      <th></th>\n      <th></th>\n      <th></th>\n      <th></th>\n      <th></th>\n      <th></th>\n      <th></th>\n      <th></th>\n      <th></th>\n      <th></th>\n      <th></th>\n      <th></th>\n    </tr>\n  </thead>\n  <tbody>\n    <tr>\n      <th>002511b392561fc1d426d875c386b356a6fc5702</th>\n      <td>8312</td>\n      <td>1209</td>\n      <td>2290</td>\n      <td>1352</td>\n      <td>26685</td>\n      <td>20048</td>\n      <td>6308</td>\n      <td>16216</td>\n      <td>5039</td>\n      <td>7960</td>\n      <td>...</td>\n      <td>34535</td>\n      <td>15185</td>\n      <td>22648</td>\n      <td>4590</td>\n      <td>35471</td>\n      <td>20634</td>\n      <td>9682</td>\n      <td>25299</td>\n      <td>6835</td>\n      <td>17409</td>\n    </tr>\n    <tr>\n      <th>003998bc33cddeba02428a43391c6716e523c8f7</th>\n      <td>8312</td>\n      <td>1209</td>\n      <td>2290</td>\n      <td>1352</td>\n      <td>26685</td>\n      <td>20048</td>\n      <td>6308</td>\n      <td>16216</td>\n      <td>5039</td>\n      <td>7960</td>\n      <td>...</td>\n      <td>34535</td>\n      <td>15185</td>\n      <td>22648</td>\n      <td>4590</td>\n      <td>35471</td>\n      <td>20634</td>\n      <td>9682</td>\n      <td>25299</td>\n      <td>6835</td>\n      <td>17409</td>\n    </tr>\n    <tr>\n      <th>005b1fab38cdeb9d5bb97debcf73b44050994a3e</th>\n      <td>8312</td>\n      <td>1209</td>\n      <td>2290</td>\n      <td>1352</td>\n      <td>26685</td>\n      <td>20048</td>\n      <td>6308</td>\n      <td>16216</td>\n      <td>5039</td>\n      <td>7960</td>\n      <td>...</td>\n      <td>34535</td>\n      <td>15185</td>\n      <td>22648</td>\n      <td>4590</td>\n      <td>35471</td>\n      <td>20634</td>\n      <td>9682</td>\n      <td>25299</td>\n      <td>6835</td>\n      <td>17409</td>\n    </tr>\n    <tr>\n      <th>005cc5d858319f13f88228f62341e5a4270f8e75</th>\n      <td>8312</td>\n      <td>1209</td>\n      <td>2290</td>\n      <td>1352</td>\n      <td>26685</td>\n      <td>20048</td>\n      <td>6308</td>\n      <td>16216</td>\n      <td>5039</td>\n      <td>7960</td>\n      <td>...</td>\n      <td>34535</td>\n      <td>15185</td>\n      <td>22648</td>\n      <td>4590</td>\n      <td>35471</td>\n      <td>20634</td>\n      <td>9682</td>\n      <td>25299</td>\n      <td>6835</td>\n      <td>17409</td>\n    </tr>\n    <tr>\n      <th>006d3c79b9ed677280f8ddbc422d7b0fedd6d1fa</th>\n      <td>8312</td>\n      <td>1209</td>\n      <td>2290</td>\n      <td>1352</td>\n      <td>26685</td>\n      <td>20048</td>\n      <td>6308</td>\n      <td>16216</td>\n      <td>5039</td>\n      <td>7960</td>\n      <td>...</td>\n      <td>34535</td>\n      <td>15185</td>\n      <td>22648</td>\n      <td>4590</td>\n      <td>35471</td>\n      <td>20634</td>\n      <td>9682</td>\n      <td>25299</td>\n      <td>6835</td>\n      <td>17409</td>\n    </tr>\n  </tbody>\n</table>\n<p>5 rows × 100 columns</p>\n</div>"
     },
     "metadata": {},
     "execution_count": 99
    }
   ],
   "source": [
    "print(new_users_recommendations.shape)\n",
    "new_users_recommendations.head()"
   ]
  },
  {
   "cell_type": "code",
   "execution_count": 100,
   "metadata": {
    "scrolled": true,
    "tags": []
   },
   "outputs": [
    {
     "output_type": "stream",
     "name": "stdout",
     "text": "(1000, 100)\n"
    }
   ],
   "source": [
    "content_most_rated_test_df = pd.concat([content_most_rated_in_data_df, new_users_recommendations])\n",
    "print(content_most_rated_test_df.shape)"
   ]
  },
  {
   "cell_type": "code",
   "execution_count": 101,
   "metadata": {
    "tags": []
   },
   "outputs": [
    {
     "output_type": "stream",
     "name": "stdout",
     "text": "Saved to csv in 'data/content_recommendations.csv'.\n"
    }
   ],
   "source": [
    "# Save the content-based filtering recommendations \n",
    "save_predictions(content_most_rated_test_df, os.path.join(\"data\", \"content_recommendations.csv\"))"
   ]
  }
 ],
 "metadata": {
  "kernelspec": {
   "display_name": "BLU12-venv",
   "language": "python",
   "name": "blu12-venv"
  },
  "language_info": {
   "codemirror_mode": {
    "name": "ipython",
    "version": 3
   },
   "file_extension": ".py",
   "mimetype": "text/x-python",
   "name": "python",
   "nbconvert_exporter": "python",
   "pygments_lexer": "ipython3",
   "version": "3.8.0"
  }
 },
 "nbformat": 4,
 "nbformat_minor": 2
}