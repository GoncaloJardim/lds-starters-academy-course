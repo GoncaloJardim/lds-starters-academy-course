{
 "cells": [
  {
   "cell_type": "markdown",
   "metadata": {},
   "source": [
    "## Surviving and recovering from failures \n",
    "\n",
    "It's time to deploy and manage our model! Now that your client is happy with your work, we'll pick up from BLU13 and provide them with a small app to use it."
   ]
  },
  {
   "cell_type": "code",
   "execution_count": 1,
   "metadata": {},
   "outputs": [
    {
     "name": "stderr",
     "output_type": "stream",
     "text": [
      "/Users/catarinasilva/.pyenv/versions/3.8.5/envs/batch4-blu14/lib/python3.8/site-packages/pandas/compat/__init__.py:120: UserWarning: Could not import the lzma module. Your installed Python is incomplete. Attempting to use lzma compression will result in a RuntimeError.\n",
      "  warnings.warn(msg)\n"
     ]
    }
   ],
   "source": [
    "import os\n",
    "import pandas as pd\n",
    "import json\n",
    "import joblib\n",
    "import pickle\n",
    "import requests\n",
    "from uuid import uuid4\n",
    "from sklearn.pipeline import make_pipeline, Pipeline\n",
    "from sklearn.model_selection import cross_val_score\n",
    "from category_encoders import OneHotEncoder\n",
    "from sklearn.compose import ColumnTransformer\n",
    "from sklearn.ensemble import RandomForestClassifier\n",
    "from sklearn.linear_model import LogisticRegression"
   ]
  },
  {
   "cell_type": "markdown",
   "metadata": {},
   "source": [
    "## Time to deploy! \n",
    "\n",
    "If you're reacting more or less like this \n",
    "\n",
    "<img src=\"media/model-deploy-unknown.png\" width=300 />\n",
    "\n",
    "do not panic, if you still haven't really internalized the last BLU, we provide you with the template code to deploy the model that we created in part 1, which you can also reuse as a starting point for the exercises. This code handles:\n",
    "\n",
    "* deserialization of our model\n",
    "* serving predictions \n",
    "* storage of observations\n",
    "* update of observations\n",
    "\n",
    "In the previous BLU you've learned how to deploy in heroku, and you will want to do that to server your app. However, for the following topics we will focus on testing locally.\n",
    "\n",
    "<br>\n",
    "\n",
    "### Deploying locally\n",
    "\n",
    "What does this mean?\n",
    "\n",
    "Well, it means we'll launch a server in our own machine, making it available to test it there, but not available to the world. This server will be accessible to you by the URLs `127.0.0.1` or `localhost`. These are reserved so that in every machine the traffic that you send to these is looped back.\n",
    "\n",
    "\n",
    "<img src=\"media/localhost-ben.png\" width=450 />\n",
    "\n",
    "\n",
    "\n"
   ]
  },
  {
   "cell_type": "markdown",
   "metadata": {},
   "source": [
    "So start by running the server we provide under `server.py`. Open a shell tab and go the BLU folder. Once you're there, run the following to start up the template server\n",
    "\n",
    "```sh\n",
    "\n",
    "python server.py\n",
    "\n",
    "\n",
    "```\n",
    "\n",
    "You should see something like this if everything went well:\n",
    "\n",
    "<img src=\"media/flask-server-log.png\" width=\"100%\" />\n",
    "\n",
    "Yes, even with that scary red warning this is fine, you're ready to continue. The next thing we will do is to send some requests to our server. \n",
    "\n",
    "\n",
    "### Sending some observations\n",
    "\n",
    "If you remember correctly we used the following columns:\n",
    "\n",
    "* SubjectRaceCode\n",
    "* SubjectSexCode\n",
    "* SubjectEthnicityCode\n",
    "* StatuteReason\n",
    "* InterventionReasonCode\n",
    "* ResidentIndicator\n",
    "* SearchAuthorizationCode\n",
    "* SubjectAge\n",
    "* hour\n",
    "* day_of_week\n",
    "\n",
    "And the way we need to communicate to our server is by sending a json object such as:\n",
    "\n",
    "```json\n",
    "\n",
    "{\n",
    "  \"id\": \"your-observation-id\",\n",
    "  \"observation\": {\n",
    "     \"SubjectRaceCode\": \"W\",\n",
    "     \"SubjectSexCode\": \"F\",\n",
    "     \"SubjectEthnicityCode\": \"H\",\n",
    "     \"StatuteReason\": \"Stop sign\", \n",
    "     \"InterventionReasonCode\": \"V\", \n",
    "     \"ResidentIndicator\": False, \n",
    "     \"SearchAuthorizationCode\": \"N\",\n",
    "     \"SubjectAge\": 20,\n",
    "     \"hour\": 20,\n",
    "     \"day_of_week\": \"Tuesday\",\n",
    "   }\n",
    "}\n",
    "\n",
    "```\n",
    "\n",
    "We'll do this in 2 ways:\n",
    "\n",
    "* by using cURL requests, which you used in the previous BLU\n",
    "* by using the `requests` library from python\n",
    "\n",
    "We'll start by creating our dummy observation as JSON and print so we can use it in curl:"
   ]
  },
  {
   "cell_type": "code",
   "execution_count": 2,
   "metadata": {},
   "outputs": [
    {
     "name": "stdout",
     "output_type": "stream",
     "text": [
      "{\"id\": \"fake-observation-cc2cd636-18fe-4dc3-8681-b310ea37390d\", \"observation\": {\"SubjectRaceCode\": \"B\", \"SubjectSexCode\": \"M\", \"SubjectEthnicityCode\": \"N\", \"StatuteReason\": \"Stop sign\", \"InterventionReasonCode\": \"V\", \"ResidentIndicator\": false, \"SearchAuthorizationCode\": \"N\", \"SubjectAge\": 20, \"hour\": 20, \"day_of_week\": \"Tuesday\"}}\n"
     ]
    }
   ],
   "source": [
    "observation = {\n",
    "  \"id\": \"fake-observation-{}\".format(uuid4()),\n",
    "  \"observation\": {\n",
    "      \"SubjectRaceCode\": \"B\",\n",
    "      \"SubjectSexCode\": \"M\",\n",
    "      \"SubjectEthnicityCode\": \"N\",\n",
    "      \"StatuteReason\": \"Stop sign\", \n",
    "      \"InterventionReasonCode\": \"V\", \n",
    "      \"ResidentIndicator\": False, \n",
    "      \"SearchAuthorizationCode\": \"N\",\n",
    "      \"SubjectAge\": 20,\n",
    "      \"hour\": 20,\n",
    "      \"day_of_week\": \"Tuesday\",\n",
    "  }\n",
    "}\n",
    "\n",
    "print(json.dumps(observation))"
   ]
  },
  {
   "cell_type": "markdown",
   "metadata": {},
   "source": [
    "Let's copy this and prepare our curl request:\n",
    "\n",
    "\n",
    "```sh\n",
    "\n",
    "curl -X POST http://localhost:5000/predict -d '{\"id\": \"fake-observation-1bc5145b-d7b5-2688-95e8-21a378204133\", \"observation\": {\"SubjectRaceCode\": \"B\", \"SubjectSexCode\": \"M\", \"SubjectEthnicityCode\": \"N\", \"StatuteReason\": \"Stop sign\", \"InterventionReasonCode\": \"V\", \"ResidentIndicator\": false, \"SearchAuthorizationCode\": \"N\", \"SubjectAge\": 20, \"hour\": 20, \"day_of_week\": \"Tuesday\"}}'  -H \"Content-Type:application/json\"\n",
    "\n",
    "\n",
    "```\n",
    "\n",
    "**Note**: everytime you run the previous cell, a different ID will be generated. You can also chose to change your id if you want to perform the request again."
   ]
  },
  {
   "cell_type": "markdown",
   "metadata": {},
   "source": [
    "If you sent the request through cURL, re-run the observation cell and let's run the same request through the requests library. This should give you the exact same probability and prediction as the curl request"
   ]
  },
  {
   "cell_type": "code",
   "execution_count": 3,
   "metadata": {},
   "outputs": [
    {
     "name": "stdout",
     "output_type": "stream",
     "text": [
      "200\n",
      "{\"prediction\":true,\"proba\":0.5323205446823367}\n",
      "\n"
     ]
    }
   ],
   "source": [
    "observation = {\n",
    "  \"id\": \"fake-observation-{}\".format(uuid4()),\n",
    "  \"observation\": {\n",
    "      \"SubjectRaceCode\": \"B\",\n",
    "      \"SubjectSexCode\": \"M\",\n",
    "      \"SubjectEthnicityCode\": \"N\",\n",
    "      \"StatuteReason\": \"Stop sign\", \n",
    "      \"InterventionReasonCode\": \"V\", \n",
    "      \"ResidentIndicator\": False, \n",
    "      \"SearchAuthorizationCode\": \"N\",\n",
    "      \"SubjectAge\": 20,\n",
    "      \"hour\": 20,\n",
    "      \"day_of_week\": \"Tuesday\",\n",
    "  }\n",
    "}\n",
    "\n",
    "\n",
    "url=\"http://127.0.0.1:5000/predict\"\n",
    "headers = {'Content-Type': 'application/json'}\n",
    "\n",
    "r = requests.post(url, data=json.dumps(observation), headers=headers)\n",
    "\n",
    "print(r.status_code)\n",
    "print(r.text)"
   ]
  },
  {
   "cell_type": "markdown",
   "metadata": {},
   "source": [
    "Pretty simple, right? Try out a few more requests and play around with both commands\n",
    "\n",
    "**Note**: You should get a status 200 and a proper response here. If not, make sure you ran the server as mentioned before and that you did so with the environment activated.\n",
    "\n",
    "<br>\n",
    "\n",
    "## Dealing with unexpected formats\n",
    "\n",
    "\n",
    "But what happens if we get a weird observation? \n",
    "\n",
    "Let's start by changing our dictionary so that the `observation` is now `my_observation`\n",
    "\n"
   ]
  },
  {
   "cell_type": "code",
   "execution_count": 4,
   "metadata": {},
   "outputs": [
    {
     "name": "stdout",
     "output_type": "stream",
     "text": [
      "500\n",
      "<!DOCTYPE HTML PUBLIC \"-//W3C//DTD HTML 3.2 Final//EN\">\n",
      "<title>500 Internal Server Error</title>\n",
      "<h1>Internal Server Error</h1>\n",
      "<p>The server encountered an internal error and was unable to complete your request. Either the server is overloaded or there is an error in the application.</p>\n",
      "\n"
     ]
    }
   ],
   "source": [
    "# Bad format\n",
    "\n",
    "observation = {\n",
    "  \"id\": \"fake-observation-{}\".format(uuid4()),\n",
    "  \"my_observation\": {\n",
    "      \"SubjectRaceCode\": \"B\",\n",
    "      \"SubjectSexCode\": None,\n",
    "      \"SubjectEthnicityCode\": \"N\",\n",
    "      \"StatuteReason\": \"Stop sign\", \n",
    "      \"InterventionReasonCode\": \"V\", \n",
    "      \"ResidentIndicator\": False, \n",
    "      \"SearchAuthorizationCode\": \"N\",\n",
    "      \"SubjectAge\": 20,\n",
    "      \"hour\": 20,\n",
    "      \"day_of_week\": \"Tuesday\",\n",
    "  }\n",
    "}\n",
    "\n",
    "\n",
    "url=\"http://127.0.0.1:5000/predict\"\n",
    "headers = {'Content-Type': 'application/json'}\n",
    "\n",
    "r = requests.post(url, data=json.dumps(observation), headers=headers)\n",
    "\n",
    "print(r.status_code)\n",
    "print(r.text)"
   ]
  },
  {
   "cell_type": "markdown",
   "metadata": {},
   "source": [
    "<img src=\"media/michael-surprised.jpg\" width=500 />\n",
    "\n",
    "\n",
    "Ok ok, your users know what they should send.\n",
    "\n",
    "But what about if they miss out some columns?\n"
   ]
  },
  {
   "cell_type": "code",
   "execution_count": 5,
   "metadata": {},
   "outputs": [
    {
     "name": "stdout",
     "output_type": "stream",
     "text": [
      "200\n",
      "{\"prediction\":true,\"proba\":0.5021033711778715}\n",
      "\n"
     ]
    }
   ],
   "source": [
    "# Missing columns\n",
    "\n",
    "observation = {\n",
    "  \"id\": \"fake-observation-{}\".format(uuid4()),\n",
    "  \"observation\": {\n",
    "      \"SubjectAge\": 20,\n",
    "      \"hour\": 20\n",
    "  }\n",
    "}\n",
    "\n",
    "\n",
    "url=\"http://127.0.0.1:5000/predict\"\n",
    "headers = {'Content-Type': 'application/json'}\n",
    "\n",
    "r = requests.post(url, data=json.dumps(observation), headers=headers)\n",
    "\n",
    "print(r.status_code)\n",
    "print(r.text)"
   ]
  },
  {
   "cell_type": "markdown",
   "metadata": {},
   "source": [
    "\n",
    "<img src=\"media/michael-nope.jpg\" width=500 />\n",
    "\n",
    "We got a 200 but in reality our model had almost no information about the observation, how do we know how to interpret this information? \n",
    "\n",
    "Maybe it is useful to see what happens if we send just complete nonsense? "
   ]
  },
  {
   "cell_type": "code",
   "execution_count": 6,
   "metadata": {},
   "outputs": [
    {
     "name": "stdout",
     "output_type": "stream",
     "text": [
      "200\n",
      "{\"prediction\":true,\"proba\":0.5036075609758188}\n",
      "\n"
     ]
    }
   ],
   "source": [
    "# Non sense values that don't break the request\n",
    "\n",
    "observation = {\n",
    "  \"id\": \"fake-observation-{}\".format(uuid4()),\n",
    "  \"observation\": {\n",
    "      \"SubjectRaceCode\": \"A\",\n",
    "      \"SubjectSexCode\": \"B\",\n",
    "      \"SubjectEthnicityCode\": \"C\",\n",
    "      \"StatuteReason\": \"D\", \n",
    "      \"InterventionReasonCode\": \"E\", \n",
    "      \"ResidentIndicator\": \"F\", \n",
    "      \"SearchAuthorizationCode\": \"F\",\n",
    "      \"SubjectAge\": 1,\n",
    "      \"hour\": 90,\n",
    "      \"day_of_week\": \"potato\",\n",
    "  }\n",
    "}\n",
    "\n",
    "\n",
    "url=\"http://127.0.0.1:5000/predict\"\n",
    "headers = {'Content-Type': 'application/json'}\n",
    "\n",
    "r = requests.post(url, data=json.dumps(observation), headers=headers)\n",
    "\n",
    "print(r.status_code)\n",
    "print(r.text)"
   ]
  },
  {
   "cell_type": "markdown",
   "metadata": {},
   "source": [
    "\n",
    "<img src=\"media/michael-cringe.png\" width=500 />\n",
    "\n",
    "Getting a 200 is not always good. In fact, if someone just sends completely random values and get a probability and prediction, not only are they mislead, but since our system is also storing these observations, we will get poluted data. \n",
    "\n",
    "**Most of the times, silent errors are worse than explicit ones** \n",
    "\n",
    "Let's do one more just so you get the full picture:"
   ]
  },
  {
   "cell_type": "code",
   "execution_count": 7,
   "metadata": {},
   "outputs": [
    {
     "name": "stdout",
     "output_type": "stream",
     "text": [
      "500\n",
      "<!DOCTYPE HTML PUBLIC \"-//W3C//DTD HTML 3.2 Final//EN\">\n",
      "<title>500 Internal Server Error</title>\n",
      "<h1>Internal Server Error</h1>\n",
      "<p>The server encountered an internal error and was unable to complete your request. Either the server is overloaded or there is an error in the application.</p>\n",
      "\n"
     ]
    }
   ],
   "source": [
    "# More non sense values that break the request\n",
    "\n",
    "observation = {\n",
    "  \"id\": \"fake-observation-{}\".format(uuid4()),\n",
    "  \"observation\": {\n",
    "      \"SubjectRaceCode\": \"B\",\n",
    "      \"SubjectSexCode\": \"M\",\n",
    "      \"SubjectEthnicityCode\": \"N\",\n",
    "      \"StatuteReason\": \"Stop sign\", \n",
    "      \"InterventionReasonCode\": \"V\", \n",
    "      \"ResidentIndicator\": False, \n",
    "      \"SearchAuthorizationCode\": \"N\",\n",
    "      \"SubjectAge\": \"twenty\",\n",
    "      \"hour\": 20,\n",
    "      \"day_of_week\": \"Tuesday\",\n",
    "  }\n",
    "}\n",
    "\n",
    "\n",
    "url=\"http://127.0.0.1:5000/predict\"\n",
    "headers = {'Content-Type': 'application/json'}\n",
    "\n",
    "r = requests.post(url, data=json.dumps(observation), headers=headers)\n",
    "\n",
    "print(r.status_code)\n",
    "print(r.text)"
   ]
  },
  {
   "cell_type": "markdown",
   "metadata": {},
   "source": [
    "<img src=\"media/michael-tired.jpg\" width=500 />\n",
    "\n",
    "Alright, alright, I'll stop. By this point, you should have an idea of the different ways input data can be bad. So what do we do?\n",
    "\n",
    "\n",
    "### Handling input \n",
    "\n",
    "\n",
    "We protect the code. On one hand, we obviously don't want to send obscure errors to our client. On the other hand, we don't want to store data that doesn't make sense. So neither of the errors above are acceptable.\n",
    "\n",
    "Let's retrieve the map we did with our known values from the last unit:\n"
   ]
  },
  {
   "cell_type": "code",
   "execution_count": 8,
   "metadata": {},
   "outputs": [],
   "source": [
    "known_categories = {\n",
    "    \"InterventionReasonCode\": {\"values\": [\"V\", \"E\", \"I\"], \"default\": None},\n",
    "    \"SubjectRaceCode\": {\"values\": [\"W\", \"B\", \"A\", \"I\"], \"default\": None},\n",
    "    \"SubjectSexCode\": {\"values\": [\"M\", \"F\"], \"default\": None},\n",
    "    \"SubjectEthnicityCode\": {\"values\": [\"H\", \"M\", \"N\"], \"default\": \"N\"},\n",
    "    \"SearchAuthorizationCode\": {\"values\": [\"O\", \"I\", \"C\", \"N\"], \"default\": \"N\"},\n",
    "    # We can use it also for booleans!\n",
    "    \"TownResidentIndicator\": {\"values\": [True, False]}, \n",
    "    \"ResidentIndicator\": {\"values\": [True, False]},\n",
    "    \"VehicleSearchedIndicator\": {\"values\": [True, False]},\n",
    "    \"ContrabandIndicator\": {\"values\": [True, False]},\n",
    "}\n"
   ]
  },
  {
   "cell_type": "markdown",
   "metadata": {},
   "source": [
    "We're going to do some slight modifications. Since we ended up using only a subset of our features and we actually augmented it with some others, we'll change the map to reflect this. Additionally, we'll keep only the allowed values and forget about any defaults for now.\n",
    "\n",
    "Notice that we are not handling numeric values, only categorical (including boolean) values in this map. We'll go back to the numerical values later on\n"
   ]
  },
  {
   "cell_type": "code",
   "execution_count": 9,
   "metadata": {},
   "outputs": [],
   "source": [
    "valid_categories = {\n",
    "    \"InterventionReasonCode\": [\"V\", \"E\", \"I\"],\n",
    "    \"SubjectRaceCode\": [\"W\", \"B\", \"A\", \"I\"],\n",
    "    \"SubjectSexCode\": [\"M\", \"F\"],\n",
    "    \"SubjectEthnicityCode\": [\"H\", \"M\", \"N\"],\n",
    "    \"SearchAuthorizationCode\": [\"O\", \"I\", \"C\", \"N\"],\n",
    "    \"ResidentIndicator\": {\"values\": [True, False]},\n",
    "    \"StatuteReason\": [\n",
    "        'Stop Sign', 'Other', 'Speed Related', 'Cell Phone', 'Traffic Control Signal', 'Defective Lights', \n",
    "        'Moving Violation', 'Registration', 'Display of Plates', 'Equipment Violation', 'Window Tint', \n",
    "        'Suspended License', 'Seatbelt', 'Other/Error', 'STC Violation', 'Administrative Offense', 'Unlicensed Operation'], \n",
    "    \"day_of_week\": [\"Monday\", \"Tuesday\", \"Wednesday\", \"Thursday\", \"Friday\", \"Saturday\", \"Sunday\"]\n",
    "}\n"
   ]
  },
  {
   "cell_type": "markdown",
   "metadata": {},
   "source": [
    "What we want to do is verify, when we receive the input, that it is:\n",
    "\n",
    "1. a valid input, with an `id` and an `observation`\n",
    "2. valid columns under the observation\n",
    "3. if categorical, a valid category within its column\n",
    "\n",
    "We can build some small functions to do that for us"
   ]
  },
  {
   "cell_type": "code",
   "execution_count": 10,
   "metadata": {},
   "outputs": [],
   "source": [
    "def check_request(request):\n",
    "    \"\"\"\n",
    "        Validates that our request is well formatted\n",
    "        \n",
    "        Returns:\n",
    "        - assertion value: True if request is ok, False otherwise\n",
    "        - error message: empty if request is ok, False otherwise\n",
    "    \"\"\"\n",
    "    \n",
    "    if \"id\" not in request:\n",
    "        error = \"Field `id` missing from request: {}\".format(request)\n",
    "        return False, error\n",
    "    \n",
    "    if \"observation\" not in request:\n",
    "        error = \"Field `observation` missing from request: {}\".format(request)\n",
    "        return False, error\n",
    "    \n",
    "    return True, \"\"\n",
    "\n",
    "\n",
    "\n",
    "def check_valid_column(observation):\n",
    "    \"\"\"\n",
    "        Validates that our observation only has valid columns\n",
    "        \n",
    "        Returns:\n",
    "        - assertion value: True if all provided columns are valid, False otherwise\n",
    "        - error message: empty if all provided columns are valid, False otherwise\n",
    "    \"\"\"\n",
    "    \n",
    "    valid_columns = {\n",
    "      \"SubjectRaceCode\",\n",
    "      \"SubjectSexCode\",\n",
    "      \"SubjectEthnicityCode\",\n",
    "      \"StatuteReason\", \n",
    "      \"InterventionReasonCode\", \n",
    "      \"ResidentIndicator\", \n",
    "      \"SearchAuthorizationCode\",\n",
    "      \"SubjectAge\",\n",
    "      \"hour\",\n",
    "      \"day_of_week\",\n",
    "    }\n",
    "    \n",
    "    keys = set(observation.keys())\n",
    "    \n",
    "    if len(valid_columns - keys) > 0: \n",
    "        missing = valid_columns - keys\n",
    "        error = \"Missing columns: {}\".format(missing)\n",
    "        return False, error\n",
    "    \n",
    "    if len(keys - valid_columns) > 0: \n",
    "        extra = keys - valid_columns\n",
    "        error = \"Unrecognized columns provided: {}\".format(extra)\n",
    "        return False, error    \n",
    "\n",
    "    return True, \"\"\n",
    "\n",
    "\n",
    "\n",
    "def check_categorical_values(observation):\n",
    "    \"\"\"\n",
    "        Validates that all categorical fields are in the observation and values are valid\n",
    "        \n",
    "        Returns:\n",
    "        - assertion value: True if all provided categorical columns contain valid values, \n",
    "                           False otherwise\n",
    "        - error message: empty if all provided columns are valid, False otherwise\n",
    "    \"\"\"\n",
    "    \n",
    "    valid_category_map = {\n",
    "        \"InterventionReasonCode\": [\"V\", \"E\", \"I\"],\n",
    "        \"SubjectRaceCode\": [\"W\", \"B\", \"A\", \"I\"],\n",
    "        \"SubjectSexCode\": [\"M\", \"F\"],\n",
    "        \"SubjectEthnicityCode\": [\"H\", \"M\", \"N\"],\n",
    "        \"SearchAuthorizationCode\": [\"O\", \"I\", \"C\", \"N\"],\n",
    "        \"ResidentIndicator\": [True, False],\n",
    "        \"StatuteReason\": [\n",
    "            'Stop Sign', 'Other', 'Speed Related', 'Cell Phone', 'Traffic Control Signal', 'Defective Lights', \n",
    "            'Moving Violation', 'Registration', 'Display of Plates', 'Equipment Violation', 'Window Tint', \n",
    "            'Suspended License', 'Seatbelt', 'Other/Error', 'STC Violation', 'Administrative Offense', 'Unlicensed Operation'], \n",
    "        \"day_of_week\": [\"Monday\", \"Tuesday\", \"Wednesday\", \"Thursday\", \"Friday\", \"Saturday\", \"Sunday\"]\n",
    "    }\n",
    "    \n",
    "    for key, valid_categories in valid_category_map.items():\n",
    "        if key in observation:\n",
    "            value = observation[key]\n",
    "            if value not in valid_categories:\n",
    "                error = \"Invalid value provided for {}: {}. Allowed values are: {}\".format(\n",
    "                    key, value, \",\".join([\"'{}'\".format(v) for v in valid_categories]))\n",
    "                return False, error\n",
    "        else:\n",
    "            error = \"Categorical field {} missing\"\n",
    "            return False, error\n",
    "\n",
    "    return True, \"\"\n"
   ]
  },
  {
   "cell_type": "markdown",
   "metadata": {},
   "source": [
    "Let's try out our functions:"
   ]
  },
  {
   "cell_type": "markdown",
   "metadata": {},
   "source": [
    "#### Check request structure\n"
   ]
  },
  {
   "cell_type": "code",
   "execution_count": 11,
   "metadata": {},
   "outputs": [
    {
     "data": {
      "text/plain": [
       "(True, '')"
      ]
     },
     "execution_count": 11,
     "metadata": {},
     "output_type": "execute_result"
    }
   ],
   "source": [
    "check_request({\"id\": \"fake-id\", \"observation\": \"fake-obs\"})\n"
   ]
  },
  {
   "cell_type": "code",
   "execution_count": 12,
   "metadata": {},
   "outputs": [
    {
     "data": {
      "text/plain": [
       "(False,\n",
       " \"Field `id` missing from request: {'bad_id': 'fake-id', 'observation': 'fake-obs'}\")"
      ]
     },
     "execution_count": 12,
     "metadata": {},
     "output_type": "execute_result"
    }
   ],
   "source": [
    "check_request({\"bad_id\": \"fake-id\", \"observation\": \"fake-obs\"})\n"
   ]
  },
  {
   "cell_type": "markdown",
   "metadata": {},
   "source": [
    "#### Check observation\n"
   ]
  },
  {
   "cell_type": "code",
   "execution_count": 13,
   "metadata": {},
   "outputs": [
    {
     "data": {
      "text/plain": [
       "(True, '')"
      ]
     },
     "execution_count": 13,
     "metadata": {},
     "output_type": "execute_result"
    }
   ],
   "source": [
    "observation = {\n",
    "      \"SubjectRaceCode\": \"B\",\n",
    "      \"SubjectSexCode\": \"M\",\n",
    "      \"SubjectEthnicityCode\": \"N\",\n",
    "      \"StatuteReason\": \"Stop sign\", \n",
    "      \"InterventionReasonCode\": \"V\", \n",
    "      \"ResidentIndicator\": False, \n",
    "      \"SearchAuthorizationCode\": \"N\",\n",
    "      \"SubjectAge\": 20,\n",
    "      \"hour\": 20,\n",
    "      \"day_of_week\": \"Tuesday\",\n",
    "  }\n",
    "\n",
    "check_valid_column(observation)"
   ]
  },
  {
   "cell_type": "code",
   "execution_count": 14,
   "metadata": {},
   "outputs": [
    {
     "data": {
      "text/plain": [
       "(False, \"Missing columns: {'SearchAuthorizationCode'}\")"
      ]
     },
     "execution_count": 14,
     "metadata": {},
     "output_type": "execute_result"
    }
   ],
   "source": [
    "observation = {\n",
    "      \"SubjectRaceCode\": \"B\",\n",
    "      \"SubjectSexCode\": \"M\",\n",
    "      \"SubjectEthnicityCode\": \"N\",\n",
    "      \"StatuteReason\": \"Stop sign\", \n",
    "      \"InterventionReasonCode\": \"V\", \n",
    "      \"ResidentIndicator\": False, \n",
    "      \"SubjectAge\": 20,\n",
    "      \"hour\": 20,\n",
    "      \"day_of_week\": \"Tuesday\",\n",
    "  }\n",
    "\n",
    "check_valid_column(observation)"
   ]
  },
  {
   "cell_type": "code",
   "execution_count": 15,
   "metadata": {},
   "outputs": [
    {
     "data": {
      "text/plain": [
       "(False, \"Unrecognized columns provided: {'SomeRandomColumn'}\")"
      ]
     },
     "execution_count": 15,
     "metadata": {},
     "output_type": "execute_result"
    }
   ],
   "source": [
    "observation = {\n",
    "      \"SubjectRaceCode\": \"B\",\n",
    "      \"SubjectSexCode\": \"M\",\n",
    "      \"SubjectEthnicityCode\": \"N\",\n",
    "      \"StatuteReason\": \"Stop sign\", \n",
    "      \"InterventionReasonCode\": \"V\", \n",
    "      \"ResidentIndicator\": False, \n",
    "      \"SearchAuthorizationCode\": \"N\",\n",
    "      \"SomeRandomColumn\": \"N\",\n",
    "      \"SubjectAge\": 20,\n",
    "      \"hour\": 20,\n",
    "      \"day_of_week\": \"Tuesday\",\n",
    "  }\n",
    "\n",
    "check_valid_column(observation)"
   ]
  },
  {
   "cell_type": "markdown",
   "metadata": {},
   "source": [
    "#### Check categories\n"
   ]
  },
  {
   "cell_type": "code",
   "execution_count": 16,
   "metadata": {},
   "outputs": [
    {
     "data": {
      "text/plain": [
       "(True, '')"
      ]
     },
     "execution_count": 16,
     "metadata": {},
     "output_type": "execute_result"
    }
   ],
   "source": [
    "observation = {\n",
    "      \"SubjectRaceCode\": \"B\",\n",
    "      \"SubjectSexCode\": \"M\",\n",
    "      \"SubjectEthnicityCode\": \"N\",\n",
    "      \"StatuteReason\": \"Stop Sign\", \n",
    "      \"InterventionReasonCode\": \"V\", \n",
    "      \"ResidentIndicator\": False, \n",
    "      \"SearchAuthorizationCode\": \"N\",\n",
    "      \"SomeRandomColumn\": \"N\",\n",
    "      \"SubjectAge\": 20,\n",
    "      \"hour\": 20,\n",
    "      \"day_of_week\": \"Tuesday\",\n",
    "  }\n",
    "\n",
    "check_categorical_values(observation)"
   ]
  },
  {
   "cell_type": "code",
   "execution_count": 17,
   "metadata": {},
   "outputs": [
    {
     "data": {
      "text/plain": [
       "(False,\n",
       " \"Invalid value provided for SubjectRaceCode: t. Allowed values are: 'W','B','A','I'\")"
      ]
     },
     "execution_count": 17,
     "metadata": {},
     "output_type": "execute_result"
    }
   ],
   "source": [
    "observation = {\n",
    "      \"SubjectRaceCode\": \"t\",\n",
    "      \"SubjectSexCode\": \"M\",\n",
    "      \"SubjectEthnicityCode\": \"N\",\n",
    "      \"StatuteReason\": \"Stop sign\", \n",
    "      \"InterventionReasonCode\": \"V\", \n",
    "      \"ResidentIndicator\": False, \n",
    "      \"SearchAuthorizationCode\": \"N\",\n",
    "      \"SomeRandomColumn\": \"N\",\n",
    "      \"SubjectAge\": 20,\n",
    "      \"hour\": 20,\n",
    "      \"day_of_week\": \"Tuesday\",\n",
    "  }\n",
    "\n",
    "check_categorical_values(observation)"
   ]
  },
  {
   "cell_type": "code",
   "execution_count": 18,
   "metadata": {},
   "outputs": [
    {
     "data": {
      "text/plain": [
       "(False,\n",
       " \"Invalid value provided for ResidentIndicator: COUCH POTATO. Allowed values are: 'True','False'\")"
      ]
     },
     "execution_count": 18,
     "metadata": {},
     "output_type": "execute_result"
    }
   ],
   "source": [
    "observation = {\n",
    "      \"SubjectRaceCode\": \"B\",\n",
    "      \"SubjectSexCode\": \"M\",\n",
    "      \"SubjectEthnicityCode\": \"N\",\n",
    "      \"StatuteReason\": \"Stop sign\", \n",
    "      \"InterventionReasonCode\": \"V\", \n",
    "      \"ResidentIndicator\": \"COUCH POTATO\", \n",
    "      \"SearchAuthorizationCode\": \"N\",\n",
    "      \"SomeRandomColumn\": \"N\",\n",
    "      \"SubjectAge\": 20,\n",
    "      \"hour\": 20,\n",
    "      \"day_of_week\": \"Tuesday\",\n",
    "  }\n",
    "\n",
    "check_categorical_values(observation)"
   ]
  },
  {
   "cell_type": "markdown",
   "metadata": {},
   "source": [
    "<br>\n",
    "\n",
    "#### Numerical values\n",
    "\n",
    "What about our numeric values - `hour` and `SubjectAge`. Well, each has a particular set of conditions that make sense to apply, so let's create some functions to perform similar verifications:\n",
    "\n"
   ]
  },
  {
   "cell_type": "code",
   "execution_count": 19,
   "metadata": {},
   "outputs": [],
   "source": [
    "def check_hour(observation):\n",
    "    \"\"\"\n",
    "        Validates that observation contains valid hour value \n",
    "        \n",
    "        Returns:\n",
    "        - assertion value: True if hour is valid, False otherwise\n",
    "        - error message: empty if hour is valid, False otherwise\n",
    "    \"\"\"\n",
    "    \n",
    "    hour = observation.get(\"hour\")\n",
    "        \n",
    "    if not hour:\n",
    "        error = \"Field `hour` missing\"\n",
    "        return False, error\n",
    "\n",
    "    if not isinstance(hour, int):\n",
    "        error = \"Field `hour` is not an integer\"\n",
    "        return False, error\n",
    "    \n",
    "    if hour < 0 or hour > 24:\n",
    "        error = \"Field `hour` is not between 0 and 24\"\n",
    "        return False, error\n",
    "\n",
    "    return True, \"\"\n",
    "\n",
    "\n",
    "def check_age(observation):\n",
    "    \"\"\"\n",
    "        Validates that observation contains valid hour value \n",
    "        \n",
    "        Returns:\n",
    "        - assertion value: True if hour is valid, False otherwise\n",
    "        - error message: empty if hour is valid, False otherwise\n",
    "    \"\"\"\n",
    "    \n",
    "    age = observation.get(\"SubjectAge\")\n",
    "        \n",
    "    if not age: \n",
    "        error = \"Field `SubjectAge` missing\"\n",
    "        return False, error\n",
    "\n",
    "    if not isinstance(age, int):\n",
    "        error = \"Field `SubjectAge` is not an integer\"\n",
    "        return False, error\n",
    "    \n",
    "    if age < 10 or age > 100:\n",
    "        error = \"Field `SubjectAge` is not between 10 and 100\"\n",
    "        return False, error\n",
    "\n",
    "    return True, \"\"\n"
   ]
  },
  {
   "cell_type": "code",
   "execution_count": 20,
   "metadata": {},
   "outputs": [
    {
     "data": {
      "text/plain": [
       "(True, '')"
      ]
     },
     "execution_count": 20,
     "metadata": {},
     "output_type": "execute_result"
    }
   ],
   "source": [
    "observation = {\n",
    "      \"hour\": 20,\n",
    "      \"day_of_week\": \"Tuesday\",\n",
    "  }\n",
    "\n",
    "check_hour(observation)"
   ]
  },
  {
   "cell_type": "code",
   "execution_count": 21,
   "metadata": {},
   "outputs": [
    {
     "data": {
      "text/plain": [
       "(False, 'Field `hour` is not between 0 and 24')"
      ]
     },
     "execution_count": 21,
     "metadata": {},
     "output_type": "execute_result"
    }
   ],
   "source": [
    "observation = {\n",
    "      \"hour\": 100,\n",
    "      \"day_of_week\": \"Tuesday\",\n",
    "  }\n",
    "\n",
    "check_hour(observation)"
   ]
  },
  {
   "cell_type": "code",
   "execution_count": 22,
   "metadata": {},
   "outputs": [
    {
     "data": {
      "text/plain": [
       "(True, '')"
      ]
     },
     "execution_count": 22,
     "metadata": {},
     "output_type": "execute_result"
    }
   ],
   "source": [
    "observation = {\n",
    "      \"SubjectAge\": 20,\n",
    "      \"day_of_week\": \"Tuesday\",\n",
    "  }\n",
    "\n",
    "check_age(observation)"
   ]
  },
  {
   "cell_type": "markdown",
   "metadata": {},
   "source": [
    "### Putting it all together\n",
    "\n",
    "Now we can run our server with these functions. \n",
    "\n",
    "Run the code under `protected_server.py`\n",
    "\n",
    "```sh\n",
    "\n",
    "python protected_server.py\n",
    "\n",
    "\n",
    "```\n",
    "\n",
    "\n",
    "And try out the same examples as before to see what the server returns to us:\n"
   ]
  },
  {
   "cell_type": "code",
   "execution_count": 24,
   "metadata": {},
   "outputs": [
    {
     "name": "stdout",
     "output_type": "stream",
     "text": [
      "{\"error\":\"Field `observation` missing from request: {'id': 'fake-observation-36de12eb-4b3d-43fa-9200-9edee8e1e44b', 'my_observation': {'SubjectRaceCode': 'B', 'SubjectSexCode': None, 'SubjectEthnicityCode': 'N', 'StatuteReason': 'Stop sign', 'InterventionReasonCode': 'V', 'ResidentIndicator': False, 'SearchAuthorizationCode': 'N', 'SubjectAge': 20, 'hour': 20, 'day_of_week': 'Tuesday'}}\"}\n",
      "\n"
     ]
    }
   ],
   "source": [
    "# Bad format\n",
    "\n",
    "observation = {\n",
    "  \"id\": \"fake-observation-{}\".format(uuid4()),\n",
    "  \"my_observation\": {\n",
    "      \"SubjectRaceCode\": \"B\",\n",
    "      \"SubjectSexCode\": None,\n",
    "      \"SubjectEthnicityCode\": \"N\",\n",
    "      \"StatuteReason\": \"Stop sign\", \n",
    "      \"InterventionReasonCode\": \"V\", \n",
    "      \"ResidentIndicator\": False, \n",
    "      \"SearchAuthorizationCode\": \"N\",\n",
    "      \"SubjectAge\": 20,\n",
    "      \"hour\": 20,\n",
    "      \"day_of_week\": \"Tuesday\",\n",
    "  }\n",
    "}\n",
    "\n",
    "\n",
    "url=\"http://127.0.0.1:5000/predict\"\n",
    "headers = {'Content-Type': 'application/json'}\n",
    "\n",
    "r = requests.post(url, data=json.dumps(observation), headers=headers)\n",
    "\n",
    "print(r.text)"
   ]
  },
  {
   "cell_type": "code",
   "execution_count": 25,
   "metadata": {},
   "outputs": [
    {
     "name": "stdout",
     "output_type": "stream",
     "text": [
      "{\"error\":\"Missing columns: {'SubjectEthnicityCode', 'SubjectSexCode'}\"}\n",
      "\n"
     ]
    }
   ],
   "source": [
    "# Missing columns\n",
    "\n",
    "observation = {\n",
    "  \"id\": \"fake-observation-{}\".format(uuid4()),\n",
    "  \"observation\": {\n",
    "      \"SubjectRaceCode\": \"B\",\n",
    "      \"StatuteReason\": \"Stop sign\", \n",
    "      \"InterventionReasonCode\": \"V\", \n",
    "      \"ResidentIndicator\": False, \n",
    "      \"SearchAuthorizationCode\": \"N\",\n",
    "      \"SubjectAge\": 20,\n",
    "      \"hour\": 20,\n",
    "      \"day_of_week\": \"Tuesday\",\n",
    "  }\n",
    "}\n",
    "\n",
    "\n",
    "url=\"http://127.0.0.1:5000/predict\"\n",
    "headers = {'Content-Type': 'application/json'}\n",
    "\n",
    "r = requests.post(url, data=json.dumps(observation), headers=headers)\n",
    "\n",
    "print(r.text)\n"
   ]
  },
  {
   "cell_type": "code",
   "execution_count": 26,
   "metadata": {},
   "outputs": [
    {
     "name": "stdout",
     "output_type": "stream",
     "text": [
      "200\n",
      "{\"error\":\"Invalid value provided for SubjectSexCode: B. Allowed values are: 'M','F'\"}\n",
      "\n"
     ]
    }
   ],
   "source": [
    "# Non sense values that don't break the request\n",
    "\n",
    "observation = {\n",
    "  \"id\": \"fake-observation-{}\".format(uuid4()),\n",
    "  \"observation\": {\n",
    "      \"SubjectRaceCode\": \"A\",\n",
    "      \"SubjectSexCode\": \"B\",\n",
    "      \"SubjectEthnicityCode\": \"C\",\n",
    "      \"StatuteReason\": \"D\", \n",
    "      \"InterventionReasonCode\": \"E\", \n",
    "      \"ResidentIndicator\": \"F\", \n",
    "      \"SearchAuthorizationCode\": \"F\",\n",
    "      \"SubjectAge\": 1,\n",
    "      \"hour\": 90,\n",
    "      \"day_of_week\": \"potato\",\n",
    "  }\n",
    "}\n",
    "\n",
    "\n",
    "url=\"http://127.0.0.1:5000/predict\"\n",
    "headers = {'Content-Type': 'application/json'}\n",
    "\n",
    "r = requests.post(url, data=json.dumps(observation), headers=headers)\n",
    "\n",
    "print(r.status_code)\n",
    "print(r.text)"
   ]
  },
  {
   "cell_type": "code",
   "execution_count": 27,
   "metadata": {},
   "outputs": [
    {
     "name": "stdout",
     "output_type": "stream",
     "text": [
      "200\n",
      "{\"error\":\"Field `SubjectAge` is not an integer\"}\n",
      "\n"
     ]
    }
   ],
   "source": [
    "# Non sense values that break the request\n",
    "\n",
    "observation = {\n",
    "  \"id\": \"fake-observation-{}\".format(uuid4()),\n",
    "  \"observation\": {\n",
    "      \"SubjectRaceCode\": \"B\",\n",
    "      \"SubjectSexCode\": \"M\",\n",
    "      \"SubjectEthnicityCode\": \"N\",\n",
    "      \"StatuteReason\": \"Stop Sign\", \n",
    "      \"InterventionReasonCode\": \"V\", \n",
    "      \"ResidentIndicator\": False, \n",
    "      \"SearchAuthorizationCode\": \"N\",\n",
    "      \"SubjectAge\": \"twenty\",\n",
    "      \"hour\": 20,\n",
    "      \"day_of_week\": \"Tuesday\",\n",
    "  }\n",
    "}\n",
    "\n",
    "\n",
    "url=\"http://127.0.0.1:5000/predict\"\n",
    "headers = {'Content-Type': 'application/json'}\n",
    "\n",
    "r = requests.post(url, data=json.dumps(observation), headers=headers)\n",
    "\n",
    "print(r.status_code)\n",
    "print(r.text)"
   ]
  },
  {
   "cell_type": "markdown",
   "metadata": {},
   "source": [
    "\n",
    "<img src=\"media/great_success.jpg\" width=400 />\n",
    "\n",
    "\n",
    "Now we have a bit more robust server. Try out other examples to see if you can break the server!\n",
    "\n",
    "\n",
    "#### A final note\n",
    "\n",
    "When designing APIs there are actually proper error codes to apply for each type of error. For example here the correct code might be 422 (`Unprocessable Entity`) while for the previously coded error when the id is the same we may want to return a 409 (`Conflict`). However, you don't need to know these for now\n",
    "\n",
    "<a href=\"https://developer.mozilla.org/en-US/docs/Web/HTTP/Status/418\"><img src=\"media/418_teapot.jpeg\" width=400 /></a>\n",
    "\n",
    "_Who said programmers are no fun?_\n"
   ]
  },
  {
   "cell_type": "markdown",
   "metadata": {},
   "source": [
    "<br>\n",
    "\n",
    "## Monitoring and maintaining the system\n",
    "\n",
    "So you've deployed your model, you made sure to protect it from bad input, you even found a bunch of other potential sources of issues and protected them. \n",
    "\n",
    "What next?\n",
    "\n",
    "\n",
    "### Uptime and surviving failures\n",
    "\n",
    "\n",
    "Even when you are 100% sure all you did was right, things can go wrong. After all, just because your model is deployed on the \"cloud\" it doesn't mean it doesn't use resources.\n",
    "\n",
    "You can have all sorts of problems related to:\n",
    "\n",
    "* CPU usage\n",
    "* Memory usage\n",
    "* Database connections\n",
    "\n",
    "And the list could go on? So how does the average developer handle all of this?\n",
    "\n",
    "\n"
   ]
  },
  {
   "cell_type": "markdown",
   "metadata": {},
   "source": [
    "### Testing\n",
    "\n",
    "Another important part for you to understand is that even when you are 100% sure all you did was right, you probably did something wrong. \n",
    "\n",
    "> Anything that can go wrong, will go wrong\n",
    "\n",
    "(this is called Murphy's law)\n",
    "\n",
    "\n",
    "So usually we perform some sort of testing on our server and model before we actually share it with the client. This usually happens before you deploy the model to what is called a production environment - this is, the same environment where your app is available to the client.\n",
    "\n",
    "<img src=\"media/testing-in-production.png\" width=400 />\n",
    "\n",
    "There are several layers of testing that you can apply, but we'll just show a couple of examples to give you an overview of how testing can help you find unwanted behaviors. After all, you don't want your server to only stay alive, you want it to follow a certain behavior that you defined. \n",
    "\n"
   ]
  },
  {
   "cell_type": "code",
   "execution_count": null,
   "metadata": {},
   "outputs": [],
   "source": [
    "# Show small examples of unit tests -> example some of the check functions"
   ]
  },
  {
   "cell_type": "markdown",
   "metadata": {},
   "source": [
    "Final remarks on testing"
   ]
  },
  {
   "cell_type": "markdown",
   "metadata": {},
   "source": [
    "### Performance requirements\n",
    "\n",
    "* query per second\n",
    "\n",
    "\n",
    "suggestions for improving:\n",
    "\n",
    "* caching\n"
   ]
  }
 ],
 "metadata": {
  "kernelspec": {
   "display_name": "Python 3",
   "language": "python",
   "name": "python3"
  },
  "language_info": {
   "codemirror_mode": {
    "name": "ipython",
    "version": 3
   },
   "file_extension": ".py",
   "mimetype": "text/x-python",
   "name": "python",
   "nbconvert_exporter": "python",
   "pygments_lexer": "ipython3",
   "version": "3.8.5"
  }
 },
 "nbformat": 4,
 "nbformat_minor": 4
}
